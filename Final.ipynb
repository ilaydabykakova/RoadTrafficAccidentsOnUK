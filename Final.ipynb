{
 "cells": [
  {
   "cell_type": "markdown",
   "metadata": {},
   "source": [
    "## SEN430 - Data Analysis \n",
    "\n",
    "\n",
    "### İlayda Büyükakova B1405.090024\n",
    "\n",
    "\n",
    "## Description of UK Road Accidents Analysis \n",
    "\n",
    "### What is UK Road Accidents Dataset? \n",
    "  The dataset inspect in this assignment is available at data.gov.uk. It contains information about Great Britain road accidents circumstances, vehicle and driver data and outcomes as far back as 1979. The data is based on (standard form) police reports (so it only includes officially reported accidents). There are three linked sub datasets for each year: Accidents, Casulties and Vehicles.I load the data from the https://data.gov.uk/dataset/road-traffic-accidents, pertaining to all collisions in 2017. \n",
    "\n",
    "### Why did you choose this subject?\n",
    "  The aim of the project is to use data science methodology to gain an understanding on the problem at hand, and develop insights for Traffic Accidents and Road Safety.This project will use U.K Road Safety Data from (2005–2017).The data consists of detailed road safety data about the circumstances of personal injury road accidents, the types of vehicles involved and the consequential casualties.\n",
    " \n",
    "### Who are the final users of your analysis results? \n",
    "  I think that the results of this analysis could be used by the general public, meaning people that want to be better at staying safe in the traffic, authorities - to help them target their law enforcements and regulations at the most problematic areas, but also by others - such as insurance companies, to provide a fact base for pricing strategies.\n"
   ]
  },
  {
   "cell_type": "code",
   "execution_count": 1,
   "metadata": {},
   "outputs": [],
   "source": [
    "# import needed libraries ...\n",
    "import pandas as pd\n",
    "import numpy as np\n",
    "import glob\n",
    "\n",
    "import matplotlib.pyplot as plt\n",
    "import seaborn as sns\n",
    "from pprint import pprint\n",
    "\n",
    "# suppress all warnings\n",
    "import warnings\n",
    "warnings.filterwarnings(\"ignore\")"
   ]
  },
  {
   "cell_type": "markdown",
   "metadata": {},
   "source": [
    "#### First load the accident data."
   ]
  },
  {
   "cell_type": "code",
   "execution_count": 2,
   "metadata": {},
   "outputs": [],
   "source": [
    "df = pd.read_csv(\"dataset.csv\", dtype={'Time (24hr)':object})\n"
   ]
  },
  {
   "cell_type": "code",
   "execution_count": 3,
   "metadata": {
    "scrolled": true
   },
   "outputs": [
    {
     "name": "stdout",
     "output_type": "stream",
     "text": [
      "(2203, 15)\n"
     ]
    },
    {
     "data": {
      "text/html": [
       "<div>\n",
       "<style scoped>\n",
       "    .dataframe tbody tr th:only-of-type {\n",
       "        vertical-align: middle;\n",
       "    }\n",
       "\n",
       "    .dataframe tbody tr th {\n",
       "        vertical-align: top;\n",
       "    }\n",
       "\n",
       "    .dataframe thead th {\n",
       "        text-align: right;\n",
       "    }\n",
       "</style>\n",
       "<table border=\"1\" class=\"dataframe\">\n",
       "  <thead>\n",
       "    <tr style=\"text-align: right;\">\n",
       "      <th></th>\n",
       "      <th>Reference Number</th>\n",
       "      <th>Grid Ref: Easting</th>\n",
       "      <th>Grid Ref: Northing</th>\n",
       "      <th>Number of Vehicles</th>\n",
       "      <th>Accident Date</th>\n",
       "      <th>Time (24hr)</th>\n",
       "      <th>1st Road Class &amp; No</th>\n",
       "      <th>Road Surface</th>\n",
       "      <th>Lighting Conditions</th>\n",
       "      <th>Weather Conditions</th>\n",
       "      <th>Type of Vehicle</th>\n",
       "      <th>Casualty Class</th>\n",
       "      <th>Casualty Severity</th>\n",
       "      <th>Sex of Casualty</th>\n",
       "      <th>Age of Casualty</th>\n",
       "    </tr>\n",
       "  </thead>\n",
       "  <tbody>\n",
       "    <tr>\n",
       "      <th>0</th>\n",
       "      <td>3AP0313</td>\n",
       "      <td>426340</td>\n",
       "      <td>428455</td>\n",
       "      <td>1</td>\n",
       "      <td>3/17/2017</td>\n",
       "      <td>0815</td>\n",
       "      <td>A643</td>\n",
       "      <td>Dry</td>\n",
       "      <td>Daylight: Street lights present</td>\n",
       "      <td>Other</td>\n",
       "      <td>Car</td>\n",
       "      <td>Pedestrian</td>\n",
       "      <td>Serious</td>\n",
       "      <td>Female</td>\n",
       "      <td>61</td>\n",
       "    </tr>\n",
       "    <tr>\n",
       "      <th>1</th>\n",
       "      <td>3BE0850</td>\n",
       "      <td>430828</td>\n",
       "      <td>433222</td>\n",
       "      <td>2</td>\n",
       "      <td>1/14/2017</td>\n",
       "      <td>1330</td>\n",
       "      <td>A61</td>\n",
       "      <td>Dry</td>\n",
       "      <td>Daylight: Street lights present</td>\n",
       "      <td>Fine without high winds</td>\n",
       "      <td>Pedal cycle</td>\n",
       "      <td>Driver or rider</td>\n",
       "      <td>Slight</td>\n",
       "      <td>Male</td>\n",
       "      <td>36</td>\n",
       "    </tr>\n",
       "    <tr>\n",
       "      <th>2</th>\n",
       "      <td>4110858</td>\n",
       "      <td>428940</td>\n",
       "      <td>429856</td>\n",
       "      <td>2</td>\n",
       "      <td>1/1/2017</td>\n",
       "      <td>0805</td>\n",
       "      <td>A653</td>\n",
       "      <td>Wet/Damp</td>\n",
       "      <td>Daylight: Street lights present</td>\n",
       "      <td>Fine without high winds</td>\n",
       "      <td>Car</td>\n",
       "      <td>Driver or rider</td>\n",
       "      <td>Slight</td>\n",
       "      <td>Male</td>\n",
       "      <td>32</td>\n",
       "    </tr>\n",
       "    <tr>\n",
       "      <th>3</th>\n",
       "      <td>4110858</td>\n",
       "      <td>428940</td>\n",
       "      <td>429856</td>\n",
       "      <td>2</td>\n",
       "      <td>1/1/2017</td>\n",
       "      <td>0805</td>\n",
       "      <td>A653</td>\n",
       "      <td>Wet/Damp</td>\n",
       "      <td>Daylight: Street lights present</td>\n",
       "      <td>Fine without high winds</td>\n",
       "      <td>Car</td>\n",
       "      <td>Driver or rider</td>\n",
       "      <td>Slight</td>\n",
       "      <td>Male</td>\n",
       "      <td>30</td>\n",
       "    </tr>\n",
       "    <tr>\n",
       "      <th>4</th>\n",
       "      <td>4111495</td>\n",
       "      <td>429899</td>\n",
       "      <td>434277</td>\n",
       "      <td>2</td>\n",
       "      <td>1/1/2017</td>\n",
       "      <td>1705</td>\n",
       "      <td>U</td>\n",
       "      <td>Wet/Damp</td>\n",
       "      <td>Darkness: Street lights present and lit</td>\n",
       "      <td>Raining without high winds</td>\n",
       "      <td>Car</td>\n",
       "      <td>Vehicle or pillion passenger</td>\n",
       "      <td>Slight</td>\n",
       "      <td>Female</td>\n",
       "      <td>26</td>\n",
       "    </tr>\n",
       "  </tbody>\n",
       "</table>\n",
       "</div>"
      ],
      "text/plain": [
       "  Reference Number  Grid Ref: Easting  Grid Ref: Northing  Number of Vehicles  \\\n",
       "0          3AP0313             426340              428455                   1   \n",
       "1          3BE0850             430828              433222                   2   \n",
       "2          4110858             428940              429856                   2   \n",
       "3          4110858             428940              429856                   2   \n",
       "4          4111495             429899              434277                   2   \n",
       "\n",
       "  Accident Date Time (24hr) 1st Road Class & No Road Surface  \\\n",
       "0     3/17/2017        0815                A643          Dry   \n",
       "1     1/14/2017        1330                 A61          Dry   \n",
       "2      1/1/2017        0805                A653     Wet/Damp   \n",
       "3      1/1/2017        0805                A653     Wet/Damp   \n",
       "4      1/1/2017        1705                   U     Wet/Damp   \n",
       "\n",
       "                       Lighting Conditions          Weather Conditions  \\\n",
       "0          Daylight: Street lights present                       Other   \n",
       "1          Daylight: Street lights present     Fine without high winds   \n",
       "2          Daylight: Street lights present     Fine without high winds   \n",
       "3          Daylight: Street lights present     Fine without high winds   \n",
       "4  Darkness: Street lights present and lit  Raining without high winds   \n",
       "\n",
       "  Type of Vehicle                Casualty Class Casualty Severity  \\\n",
       "0             Car                    Pedestrian           Serious   \n",
       "1     Pedal cycle               Driver or rider            Slight   \n",
       "2             Car               Driver or rider            Slight   \n",
       "3             Car               Driver or rider            Slight   \n",
       "4             Car  Vehicle or pillion passenger            Slight   \n",
       "\n",
       "  Sex of Casualty  Age of Casualty  \n",
       "0          Female               61  \n",
       "1            Male               36  \n",
       "2            Male               32  \n",
       "3            Male               30  \n",
       "4          Female               26  "
      ]
     },
     "execution_count": 3,
     "metadata": {},
     "output_type": "execute_result"
    }
   ],
   "source": [
    "print(df.shape)\n",
    "df.head()"
   ]
  },
  {
   "cell_type": "markdown",
   "metadata": {},
   "source": [
    "#### I used describe() method to have overall analyze."
   ]
  },
  {
   "cell_type": "code",
   "execution_count": 4,
   "metadata": {},
   "outputs": [
    {
     "data": {
      "text/html": [
       "<div>\n",
       "<style scoped>\n",
       "    .dataframe tbody tr th:only-of-type {\n",
       "        vertical-align: middle;\n",
       "    }\n",
       "\n",
       "    .dataframe tbody tr th {\n",
       "        vertical-align: top;\n",
       "    }\n",
       "\n",
       "    .dataframe thead th {\n",
       "        text-align: right;\n",
       "    }\n",
       "</style>\n",
       "<table border=\"1\" class=\"dataframe\">\n",
       "  <thead>\n",
       "    <tr style=\"text-align: right;\">\n",
       "      <th></th>\n",
       "      <th>Grid Ref: Easting</th>\n",
       "      <th>Grid Ref: Northing</th>\n",
       "      <th>Number of Vehicles</th>\n",
       "      <th>Age of Casualty</th>\n",
       "    </tr>\n",
       "  </thead>\n",
       "  <tbody>\n",
       "    <tr>\n",
       "      <th>count</th>\n",
       "      <td>2203.000000</td>\n",
       "      <td>2203.000000</td>\n",
       "      <td>2203.000000</td>\n",
       "      <td>2203.000000</td>\n",
       "    </tr>\n",
       "    <tr>\n",
       "      <th>mean</th>\n",
       "      <td>429934.945983</td>\n",
       "      <td>434064.481616</td>\n",
       "      <td>1.933273</td>\n",
       "      <td>35.745347</td>\n",
       "    </tr>\n",
       "    <tr>\n",
       "      <th>std</th>\n",
       "      <td>5032.944882</td>\n",
       "      <td>4282.654113</td>\n",
       "      <td>0.738580</td>\n",
       "      <td>18.812355</td>\n",
       "    </tr>\n",
       "    <tr>\n",
       "      <th>min</th>\n",
       "      <td>415248.000000</td>\n",
       "      <td>423230.000000</td>\n",
       "      <td>1.000000</td>\n",
       "      <td>1.000000</td>\n",
       "    </tr>\n",
       "    <tr>\n",
       "      <th>25%</th>\n",
       "      <td>427214.000000</td>\n",
       "      <td>431764.000000</td>\n",
       "      <td>2.000000</td>\n",
       "      <td>22.000000</td>\n",
       "    </tr>\n",
       "    <tr>\n",
       "      <th>50%</th>\n",
       "      <td>429944.000000</td>\n",
       "      <td>434060.000000</td>\n",
       "      <td>2.000000</td>\n",
       "      <td>32.000000</td>\n",
       "    </tr>\n",
       "    <tr>\n",
       "      <th>75%</th>\n",
       "      <td>432127.500000</td>\n",
       "      <td>435962.500000</td>\n",
       "      <td>2.000000</td>\n",
       "      <td>48.000000</td>\n",
       "    </tr>\n",
       "    <tr>\n",
       "      <th>max</th>\n",
       "      <td>445311.000000</td>\n",
       "      <td>449559.000000</td>\n",
       "      <td>7.000000</td>\n",
       "      <td>96.000000</td>\n",
       "    </tr>\n",
       "  </tbody>\n",
       "</table>\n",
       "</div>"
      ],
      "text/plain": [
       "       Grid Ref: Easting  Grid Ref: Northing  Number of Vehicles  \\\n",
       "count        2203.000000         2203.000000         2203.000000   \n",
       "mean       429934.945983       434064.481616            1.933273   \n",
       "std          5032.944882         4282.654113            0.738580   \n",
       "min        415248.000000       423230.000000            1.000000   \n",
       "25%        427214.000000       431764.000000            2.000000   \n",
       "50%        429944.000000       434060.000000            2.000000   \n",
       "75%        432127.500000       435962.500000            2.000000   \n",
       "max        445311.000000       449559.000000            7.000000   \n",
       "\n",
       "       Age of Casualty  \n",
       "count      2203.000000  \n",
       "mean         35.745347  \n",
       "std          18.812355  \n",
       "min           1.000000  \n",
       "25%          22.000000  \n",
       "50%          32.000000  \n",
       "75%          48.000000  \n",
       "max          96.000000  "
      ]
     },
     "execution_count": 4,
     "metadata": {},
     "output_type": "execute_result"
    }
   ],
   "source": [
    "df.describe()"
   ]
  },
  {
   "cell_type": "markdown",
   "metadata": {},
   "source": [
    "#### I am changing the name of the columns, to get rid of spaces."
   ]
  },
  {
   "cell_type": "code",
   "execution_count": 5,
   "metadata": {},
   "outputs": [],
   "source": [
    "df.columns = ['RefNum', 'GridRefEast', 'GridRefNorth', 'NumberOfVehicle', 'AccidentDate', 'Time', '1stRoadClass', 'RoadSurface', 'LightCondition' , 'WeatherCondition' , 'TypeVehicle', 'CasualtyClass', 'CasualtySeverity', 'SexCasualty', 'AgeCasualty']"
   ]
  },
  {
   "cell_type": "code",
   "execution_count": 6,
   "metadata": {},
   "outputs": [
    {
     "data": {
      "text/html": [
       "<div>\n",
       "<style scoped>\n",
       "    .dataframe tbody tr th:only-of-type {\n",
       "        vertical-align: middle;\n",
       "    }\n",
       "\n",
       "    .dataframe tbody tr th {\n",
       "        vertical-align: top;\n",
       "    }\n",
       "\n",
       "    .dataframe thead th {\n",
       "        text-align: right;\n",
       "    }\n",
       "</style>\n",
       "<table border=\"1\" class=\"dataframe\">\n",
       "  <thead>\n",
       "    <tr style=\"text-align: right;\">\n",
       "      <th></th>\n",
       "      <th>RefNum</th>\n",
       "      <th>GridRefEast</th>\n",
       "      <th>GridRefNorth</th>\n",
       "      <th>NumberOfVehicle</th>\n",
       "      <th>AccidentDate</th>\n",
       "      <th>Time</th>\n",
       "      <th>1stRoadClass</th>\n",
       "      <th>RoadSurface</th>\n",
       "      <th>LightCondition</th>\n",
       "      <th>WeatherCondition</th>\n",
       "      <th>TypeVehicle</th>\n",
       "      <th>CasualtyClass</th>\n",
       "      <th>CasualtySeverity</th>\n",
       "      <th>SexCasualty</th>\n",
       "      <th>AgeCasualty</th>\n",
       "    </tr>\n",
       "  </thead>\n",
       "  <tbody>\n",
       "    <tr>\n",
       "      <th>0</th>\n",
       "      <td>3AP0313</td>\n",
       "      <td>426340</td>\n",
       "      <td>428455</td>\n",
       "      <td>1</td>\n",
       "      <td>3/17/2017</td>\n",
       "      <td>0815</td>\n",
       "      <td>A643</td>\n",
       "      <td>Dry</td>\n",
       "      <td>Daylight: Street lights present</td>\n",
       "      <td>Other</td>\n",
       "      <td>Car</td>\n",
       "      <td>Pedestrian</td>\n",
       "      <td>Serious</td>\n",
       "      <td>Female</td>\n",
       "      <td>61</td>\n",
       "    </tr>\n",
       "    <tr>\n",
       "      <th>1</th>\n",
       "      <td>3BE0850</td>\n",
       "      <td>430828</td>\n",
       "      <td>433222</td>\n",
       "      <td>2</td>\n",
       "      <td>1/14/2017</td>\n",
       "      <td>1330</td>\n",
       "      <td>A61</td>\n",
       "      <td>Dry</td>\n",
       "      <td>Daylight: Street lights present</td>\n",
       "      <td>Fine without high winds</td>\n",
       "      <td>Pedal cycle</td>\n",
       "      <td>Driver or rider</td>\n",
       "      <td>Slight</td>\n",
       "      <td>Male</td>\n",
       "      <td>36</td>\n",
       "    </tr>\n",
       "    <tr>\n",
       "      <th>2</th>\n",
       "      <td>4110858</td>\n",
       "      <td>428940</td>\n",
       "      <td>429856</td>\n",
       "      <td>2</td>\n",
       "      <td>1/1/2017</td>\n",
       "      <td>0805</td>\n",
       "      <td>A653</td>\n",
       "      <td>Wet/Damp</td>\n",
       "      <td>Daylight: Street lights present</td>\n",
       "      <td>Fine without high winds</td>\n",
       "      <td>Car</td>\n",
       "      <td>Driver or rider</td>\n",
       "      <td>Slight</td>\n",
       "      <td>Male</td>\n",
       "      <td>32</td>\n",
       "    </tr>\n",
       "    <tr>\n",
       "      <th>3</th>\n",
       "      <td>4110858</td>\n",
       "      <td>428940</td>\n",
       "      <td>429856</td>\n",
       "      <td>2</td>\n",
       "      <td>1/1/2017</td>\n",
       "      <td>0805</td>\n",
       "      <td>A653</td>\n",
       "      <td>Wet/Damp</td>\n",
       "      <td>Daylight: Street lights present</td>\n",
       "      <td>Fine without high winds</td>\n",
       "      <td>Car</td>\n",
       "      <td>Driver or rider</td>\n",
       "      <td>Slight</td>\n",
       "      <td>Male</td>\n",
       "      <td>30</td>\n",
       "    </tr>\n",
       "    <tr>\n",
       "      <th>4</th>\n",
       "      <td>4111495</td>\n",
       "      <td>429899</td>\n",
       "      <td>434277</td>\n",
       "      <td>2</td>\n",
       "      <td>1/1/2017</td>\n",
       "      <td>1705</td>\n",
       "      <td>U</td>\n",
       "      <td>Wet/Damp</td>\n",
       "      <td>Darkness: Street lights present and lit</td>\n",
       "      <td>Raining without high winds</td>\n",
       "      <td>Car</td>\n",
       "      <td>Vehicle or pillion passenger</td>\n",
       "      <td>Slight</td>\n",
       "      <td>Female</td>\n",
       "      <td>26</td>\n",
       "    </tr>\n",
       "    <tr>\n",
       "      <th>...</th>\n",
       "      <td>...</td>\n",
       "      <td>...</td>\n",
       "      <td>...</td>\n",
       "      <td>...</td>\n",
       "      <td>...</td>\n",
       "      <td>...</td>\n",
       "      <td>...</td>\n",
       "      <td>...</td>\n",
       "      <td>...</td>\n",
       "      <td>...</td>\n",
       "      <td>...</td>\n",
       "      <td>...</td>\n",
       "      <td>...</td>\n",
       "      <td>...</td>\n",
       "      <td>...</td>\n",
       "    </tr>\n",
       "    <tr>\n",
       "      <th>2198</th>\n",
       "      <td>4CV0902</td>\n",
       "      <td>430343</td>\n",
       "      <td>431175</td>\n",
       "      <td>2</td>\n",
       "      <td>12/31/2017</td>\n",
       "      <td>1515</td>\n",
       "      <td>U</td>\n",
       "      <td>Snow</td>\n",
       "      <td>Daylight: Street lights present</td>\n",
       "      <td>Snowing without high winds</td>\n",
       "      <td>Car</td>\n",
       "      <td>Vehicle or pillion passenger</td>\n",
       "      <td>Slight</td>\n",
       "      <td>Male</td>\n",
       "      <td>21</td>\n",
       "    </tr>\n",
       "    <tr>\n",
       "      <th>2199</th>\n",
       "      <td>4CV1387</td>\n",
       "      <td>427748</td>\n",
       "      <td>436446</td>\n",
       "      <td>3</td>\n",
       "      <td>12/31/2017</td>\n",
       "      <td>1935</td>\n",
       "      <td>U</td>\n",
       "      <td>Wet/Damp</td>\n",
       "      <td>Darkness: Street lights present and lit</td>\n",
       "      <td>Raining without high winds</td>\n",
       "      <td>Motorcycle 12Motorcycle over 500cccc to Motorc...</td>\n",
       "      <td>Driver or rider</td>\n",
       "      <td>Slight</td>\n",
       "      <td>Male</td>\n",
       "      <td>23</td>\n",
       "    </tr>\n",
       "    <tr>\n",
       "      <th>2200</th>\n",
       "      <td>4CV1544</td>\n",
       "      <td>420323</td>\n",
       "      <td>434279</td>\n",
       "      <td>2</td>\n",
       "      <td>12/31/2017</td>\n",
       "      <td>2111</td>\n",
       "      <td>B6381</td>\n",
       "      <td>Wet/Damp</td>\n",
       "      <td>Darkness: Street lights present and lit</td>\n",
       "      <td>Raining without high winds</td>\n",
       "      <td>Car</td>\n",
       "      <td>Driver or rider</td>\n",
       "      <td>Slight</td>\n",
       "      <td>Male</td>\n",
       "      <td>20</td>\n",
       "    </tr>\n",
       "    <tr>\n",
       "      <th>2201</th>\n",
       "      <td>51B1932</td>\n",
       "      <td>431947</td>\n",
       "      <td>435868</td>\n",
       "      <td>2</td>\n",
       "      <td>1/11/2017</td>\n",
       "      <td>2320</td>\n",
       "      <td>U</td>\n",
       "      <td>Wet/Damp</td>\n",
       "      <td>Darkness: Street lights present and lit</td>\n",
       "      <td>Fine without high winds</td>\n",
       "      <td>Motorcycle Motorcycle over 500cc0cc to 12Motor...</td>\n",
       "      <td>Driver or rider</td>\n",
       "      <td>Serious</td>\n",
       "      <td>Male</td>\n",
       "      <td>34</td>\n",
       "    </tr>\n",
       "    <tr>\n",
       "      <th>2202</th>\n",
       "      <td>56R0735</td>\n",
       "      <td>421554</td>\n",
       "      <td>435973</td>\n",
       "      <td>2</td>\n",
       "      <td>6/27/2017</td>\n",
       "      <td>1400</td>\n",
       "      <td>U</td>\n",
       "      <td>Wet/Damp</td>\n",
       "      <td>Daylight: Street lights present</td>\n",
       "      <td>Raining without high winds</td>\n",
       "      <td>Car0</td>\n",
       "      <td>Driver or rider</td>\n",
       "      <td>Slight</td>\n",
       "      <td>Male</td>\n",
       "      <td>27</td>\n",
       "    </tr>\n",
       "  </tbody>\n",
       "</table>\n",
       "<p>2203 rows × 15 columns</p>\n",
       "</div>"
      ],
      "text/plain": [
       "       RefNum  GridRefEast  GridRefNorth  NumberOfVehicle AccidentDate  Time  \\\n",
       "0     3AP0313       426340        428455                1    3/17/2017  0815   \n",
       "1     3BE0850       430828        433222                2    1/14/2017  1330   \n",
       "2     4110858       428940        429856                2     1/1/2017  0805   \n",
       "3     4110858       428940        429856                2     1/1/2017  0805   \n",
       "4     4111495       429899        434277                2     1/1/2017  1705   \n",
       "...       ...          ...           ...              ...          ...   ...   \n",
       "2198  4CV0902       430343        431175                2   12/31/2017  1515   \n",
       "2199  4CV1387       427748        436446                3   12/31/2017  1935   \n",
       "2200  4CV1544       420323        434279                2   12/31/2017  2111   \n",
       "2201  51B1932       431947        435868                2    1/11/2017  2320   \n",
       "2202  56R0735       421554        435973                2    6/27/2017  1400   \n",
       "\n",
       "     1stRoadClass RoadSurface                           LightCondition  \\\n",
       "0            A643         Dry          Daylight: Street lights present   \n",
       "1             A61         Dry          Daylight: Street lights present   \n",
       "2            A653    Wet/Damp          Daylight: Street lights present   \n",
       "3            A653    Wet/Damp          Daylight: Street lights present   \n",
       "4               U    Wet/Damp  Darkness: Street lights present and lit   \n",
       "...           ...         ...                                      ...   \n",
       "2198            U        Snow          Daylight: Street lights present   \n",
       "2199            U    Wet/Damp  Darkness: Street lights present and lit   \n",
       "2200        B6381    Wet/Damp  Darkness: Street lights present and lit   \n",
       "2201            U    Wet/Damp  Darkness: Street lights present and lit   \n",
       "2202            U    Wet/Damp          Daylight: Street lights present   \n",
       "\n",
       "                WeatherCondition  \\\n",
       "0                          Other   \n",
       "1        Fine without high winds   \n",
       "2        Fine without high winds   \n",
       "3        Fine without high winds   \n",
       "4     Raining without high winds   \n",
       "...                          ...   \n",
       "2198  Snowing without high winds   \n",
       "2199  Raining without high winds   \n",
       "2200  Raining without high winds   \n",
       "2201     Fine without high winds   \n",
       "2202  Raining without high winds   \n",
       "\n",
       "                                            TypeVehicle  \\\n",
       "0                                                   Car   \n",
       "1                                           Pedal cycle   \n",
       "2                                                   Car   \n",
       "3                                                   Car   \n",
       "4                                                   Car   \n",
       "...                                                 ...   \n",
       "2198                                                Car   \n",
       "2199  Motorcycle 12Motorcycle over 500cccc to Motorc...   \n",
       "2200                                                Car   \n",
       "2201  Motorcycle Motorcycle over 500cc0cc to 12Motor...   \n",
       "2202                                               Car0   \n",
       "\n",
       "                     CasualtyClass CasualtySeverity SexCasualty  AgeCasualty  \n",
       "0                       Pedestrian          Serious      Female           61  \n",
       "1                  Driver or rider           Slight        Male           36  \n",
       "2                  Driver or rider           Slight        Male           32  \n",
       "3                  Driver or rider           Slight        Male           30  \n",
       "4     Vehicle or pillion passenger           Slight      Female           26  \n",
       "...                            ...              ...         ...          ...  \n",
       "2198  Vehicle or pillion passenger           Slight        Male           21  \n",
       "2199               Driver or rider           Slight        Male           23  \n",
       "2200               Driver or rider           Slight        Male           20  \n",
       "2201               Driver or rider          Serious        Male           34  \n",
       "2202               Driver or rider           Slight        Male           27  \n",
       "\n",
       "[2203 rows x 15 columns]"
      ]
     },
     "execution_count": 6,
     "metadata": {},
     "output_type": "execute_result"
    }
   ],
   "source": [
    "df"
   ]
  },
  {
   "cell_type": "markdown",
   "metadata": {},
   "source": [
    "#### Analysis the data types of columns"
   ]
  },
  {
   "cell_type": "code",
   "execution_count": 7,
   "metadata": {},
   "outputs": [
    {
     "data": {
      "text/plain": [
       "RefNum              object\n",
       "GridRefEast          int64\n",
       "GridRefNorth         int64\n",
       "NumberOfVehicle      int64\n",
       "AccidentDate        object\n",
       "Time                object\n",
       "1stRoadClass        object\n",
       "RoadSurface         object\n",
       "LightCondition      object\n",
       "WeatherCondition    object\n",
       "TypeVehicle         object\n",
       "CasualtyClass       object\n",
       "CasualtySeverity    object\n",
       "SexCasualty         object\n",
       "AgeCasualty          int64\n",
       "dtype: object"
      ]
     },
     "execution_count": 7,
     "metadata": {},
     "output_type": "execute_result"
    }
   ],
   "source": [
    "df.dtypes"
   ]
  },
  {
   "cell_type": "markdown",
   "metadata": {},
   "source": [
    "#### I am changing the data type of Accident Date from Object to Date Time and then test it out!"
   ]
  },
  {
   "cell_type": "code",
   "execution_count": 8,
   "metadata": {},
   "outputs": [],
   "source": [
    "df['AccidentDate'] = pd.to_datetime(df['AccidentDate'])"
   ]
  },
  {
   "cell_type": "code",
   "execution_count": 9,
   "metadata": {},
   "outputs": [
    {
     "data": {
      "text/plain": [
       "RefNum                      object\n",
       "GridRefEast                  int64\n",
       "GridRefNorth                 int64\n",
       "NumberOfVehicle              int64\n",
       "AccidentDate        datetime64[ns]\n",
       "Time                        object\n",
       "1stRoadClass                object\n",
       "RoadSurface                 object\n",
       "LightCondition              object\n",
       "WeatherCondition            object\n",
       "TypeVehicle                 object\n",
       "CasualtyClass               object\n",
       "CasualtySeverity            object\n",
       "SexCasualty                 object\n",
       "AgeCasualty                  int64\n",
       "dtype: object"
      ]
     },
     "execution_count": 9,
     "metadata": {},
     "output_type": "execute_result"
    }
   ],
   "source": [
    "df.dtypes"
   ]
  },
  {
   "cell_type": "markdown",
   "metadata": {},
   "source": [
    "## Question 1:What are accidents over the year ?"
   ]
  },
  {
   "cell_type": "markdown",
   "metadata": {},
   "source": [
    "#### Sorting the values according to AccidentDate"
   ]
  },
  {
   "cell_type": "code",
   "execution_count": 10,
   "metadata": {},
   "outputs": [
    {
     "data": {
      "text/html": [
       "<div>\n",
       "<style scoped>\n",
       "    .dataframe tbody tr th:only-of-type {\n",
       "        vertical-align: middle;\n",
       "    }\n",
       "\n",
       "    .dataframe tbody tr th {\n",
       "        vertical-align: top;\n",
       "    }\n",
       "\n",
       "    .dataframe thead th {\n",
       "        text-align: right;\n",
       "    }\n",
       "</style>\n",
       "<table border=\"1\" class=\"dataframe\">\n",
       "  <thead>\n",
       "    <tr style=\"text-align: right;\">\n",
       "      <th></th>\n",
       "      <th>RefNum</th>\n",
       "      <th>GridRefEast</th>\n",
       "      <th>GridRefNorth</th>\n",
       "      <th>NumberOfVehicle</th>\n",
       "      <th>AccidentDate</th>\n",
       "      <th>Time</th>\n",
       "      <th>1stRoadClass</th>\n",
       "      <th>RoadSurface</th>\n",
       "      <th>LightCondition</th>\n",
       "      <th>WeatherCondition</th>\n",
       "      <th>TypeVehicle</th>\n",
       "      <th>CasualtyClass</th>\n",
       "      <th>CasualtySeverity</th>\n",
       "      <th>SexCasualty</th>\n",
       "      <th>AgeCasualty</th>\n",
       "    </tr>\n",
       "  </thead>\n",
       "  <tbody>\n",
       "    <tr>\n",
       "      <th>2</th>\n",
       "      <td>4110858</td>\n",
       "      <td>428940</td>\n",
       "      <td>429856</td>\n",
       "      <td>2</td>\n",
       "      <td>2017-01-01</td>\n",
       "      <td>0805</td>\n",
       "      <td>A653</td>\n",
       "      <td>Wet/Damp</td>\n",
       "      <td>Daylight: Street lights present</td>\n",
       "      <td>Fine without high winds</td>\n",
       "      <td>Car</td>\n",
       "      <td>Driver or rider</td>\n",
       "      <td>Slight</td>\n",
       "      <td>Male</td>\n",
       "      <td>32</td>\n",
       "    </tr>\n",
       "    <tr>\n",
       "      <th>3</th>\n",
       "      <td>4110858</td>\n",
       "      <td>428940</td>\n",
       "      <td>429856</td>\n",
       "      <td>2</td>\n",
       "      <td>2017-01-01</td>\n",
       "      <td>0805</td>\n",
       "      <td>A653</td>\n",
       "      <td>Wet/Damp</td>\n",
       "      <td>Daylight: Street lights present</td>\n",
       "      <td>Fine without high winds</td>\n",
       "      <td>Car</td>\n",
       "      <td>Driver or rider</td>\n",
       "      <td>Slight</td>\n",
       "      <td>Male</td>\n",
       "      <td>30</td>\n",
       "    </tr>\n",
       "    <tr>\n",
       "      <th>4</th>\n",
       "      <td>4111495</td>\n",
       "      <td>429899</td>\n",
       "      <td>434277</td>\n",
       "      <td>2</td>\n",
       "      <td>2017-01-01</td>\n",
       "      <td>1705</td>\n",
       "      <td>U</td>\n",
       "      <td>Wet/Damp</td>\n",
       "      <td>Darkness: Street lights present and lit</td>\n",
       "      <td>Raining without high winds</td>\n",
       "      <td>Car</td>\n",
       "      <td>Vehicle or pillion passenger</td>\n",
       "      <td>Slight</td>\n",
       "      <td>Female</td>\n",
       "      <td>26</td>\n",
       "    </tr>\n",
       "    <tr>\n",
       "      <th>5</th>\n",
       "      <td>4111706</td>\n",
       "      <td>435946</td>\n",
       "      <td>436807</td>\n",
       "      <td>2</td>\n",
       "      <td>2017-01-01</td>\n",
       "      <td>1200</td>\n",
       "      <td>U</td>\n",
       "      <td>Dry</td>\n",
       "      <td>Daylight: Street lights present</td>\n",
       "      <td>Fine without high winds</td>\n",
       "      <td>Car</td>\n",
       "      <td>Driver or rider</td>\n",
       "      <td>Slight</td>\n",
       "      <td>Female</td>\n",
       "      <td>34</td>\n",
       "    </tr>\n",
       "    <tr>\n",
       "      <th>8</th>\n",
       "      <td>4121054</td>\n",
       "      <td>442103</td>\n",
       "      <td>434572</td>\n",
       "      <td>2</td>\n",
       "      <td>2017-01-02</td>\n",
       "      <td>1807</td>\n",
       "      <td>M1</td>\n",
       "      <td>Dry</td>\n",
       "      <td>Darkness: No street lighting</td>\n",
       "      <td>Fine without high winds</td>\n",
       "      <td>Car</td>\n",
       "      <td>Driver or rider</td>\n",
       "      <td>Slight</td>\n",
       "      <td>Male</td>\n",
       "      <td>18</td>\n",
       "    </tr>\n",
       "    <tr>\n",
       "      <th>...</th>\n",
       "      <td>...</td>\n",
       "      <td>...</td>\n",
       "      <td>...</td>\n",
       "      <td>...</td>\n",
       "      <td>...</td>\n",
       "      <td>...</td>\n",
       "      <td>...</td>\n",
       "      <td>...</td>\n",
       "      <td>...</td>\n",
       "      <td>...</td>\n",
       "      <td>...</td>\n",
       "      <td>...</td>\n",
       "      <td>...</td>\n",
       "      <td>...</td>\n",
       "      <td>...</td>\n",
       "    </tr>\n",
       "    <tr>\n",
       "      <th>2196</th>\n",
       "      <td>4CV0870</td>\n",
       "      <td>430983</td>\n",
       "      <td>439018</td>\n",
       "      <td>2</td>\n",
       "      <td>2017-12-31</td>\n",
       "      <td>1345</td>\n",
       "      <td>U</td>\n",
       "      <td>Dry</td>\n",
       "      <td>Daylight: Street lights present</td>\n",
       "      <td>Fine without high winds</td>\n",
       "      <td>Car</td>\n",
       "      <td>Driver or rider</td>\n",
       "      <td>Slight</td>\n",
       "      <td>Male</td>\n",
       "      <td>21</td>\n",
       "    </tr>\n",
       "    <tr>\n",
       "      <th>2197</th>\n",
       "      <td>4CV0902</td>\n",
       "      <td>430343</td>\n",
       "      <td>431175</td>\n",
       "      <td>2</td>\n",
       "      <td>2017-12-31</td>\n",
       "      <td>1515</td>\n",
       "      <td>U</td>\n",
       "      <td>Snow</td>\n",
       "      <td>Daylight: Street lights present</td>\n",
       "      <td>Snowing without high winds</td>\n",
       "      <td>Car</td>\n",
       "      <td>Driver or rider</td>\n",
       "      <td>Slight</td>\n",
       "      <td>Male</td>\n",
       "      <td>19</td>\n",
       "    </tr>\n",
       "    <tr>\n",
       "      <th>2198</th>\n",
       "      <td>4CV0902</td>\n",
       "      <td>430343</td>\n",
       "      <td>431175</td>\n",
       "      <td>2</td>\n",
       "      <td>2017-12-31</td>\n",
       "      <td>1515</td>\n",
       "      <td>U</td>\n",
       "      <td>Snow</td>\n",
       "      <td>Daylight: Street lights present</td>\n",
       "      <td>Snowing without high winds</td>\n",
       "      <td>Car</td>\n",
       "      <td>Vehicle or pillion passenger</td>\n",
       "      <td>Slight</td>\n",
       "      <td>Male</td>\n",
       "      <td>21</td>\n",
       "    </tr>\n",
       "    <tr>\n",
       "      <th>2199</th>\n",
       "      <td>4CV1387</td>\n",
       "      <td>427748</td>\n",
       "      <td>436446</td>\n",
       "      <td>3</td>\n",
       "      <td>2017-12-31</td>\n",
       "      <td>1935</td>\n",
       "      <td>U</td>\n",
       "      <td>Wet/Damp</td>\n",
       "      <td>Darkness: Street lights present and lit</td>\n",
       "      <td>Raining without high winds</td>\n",
       "      <td>Motorcycle 12Motorcycle over 500cccc to Motorc...</td>\n",
       "      <td>Driver or rider</td>\n",
       "      <td>Slight</td>\n",
       "      <td>Male</td>\n",
       "      <td>23</td>\n",
       "    </tr>\n",
       "    <tr>\n",
       "      <th>2200</th>\n",
       "      <td>4CV1544</td>\n",
       "      <td>420323</td>\n",
       "      <td>434279</td>\n",
       "      <td>2</td>\n",
       "      <td>2017-12-31</td>\n",
       "      <td>2111</td>\n",
       "      <td>B6381</td>\n",
       "      <td>Wet/Damp</td>\n",
       "      <td>Darkness: Street lights present and lit</td>\n",
       "      <td>Raining without high winds</td>\n",
       "      <td>Car</td>\n",
       "      <td>Driver or rider</td>\n",
       "      <td>Slight</td>\n",
       "      <td>Male</td>\n",
       "      <td>20</td>\n",
       "    </tr>\n",
       "  </tbody>\n",
       "</table>\n",
       "<p>2203 rows × 15 columns</p>\n",
       "</div>"
      ],
      "text/plain": [
       "       RefNum  GridRefEast  GridRefNorth  NumberOfVehicle AccidentDate  Time  \\\n",
       "2     4110858       428940        429856                2   2017-01-01  0805   \n",
       "3     4110858       428940        429856                2   2017-01-01  0805   \n",
       "4     4111495       429899        434277                2   2017-01-01  1705   \n",
       "5     4111706       435946        436807                2   2017-01-01  1200   \n",
       "8     4121054       442103        434572                2   2017-01-02  1807   \n",
       "...       ...          ...           ...              ...          ...   ...   \n",
       "2196  4CV0870       430983        439018                2   2017-12-31  1345   \n",
       "2197  4CV0902       430343        431175                2   2017-12-31  1515   \n",
       "2198  4CV0902       430343        431175                2   2017-12-31  1515   \n",
       "2199  4CV1387       427748        436446                3   2017-12-31  1935   \n",
       "2200  4CV1544       420323        434279                2   2017-12-31  2111   \n",
       "\n",
       "     1stRoadClass RoadSurface                           LightCondition  \\\n",
       "2            A653    Wet/Damp          Daylight: Street lights present   \n",
       "3            A653    Wet/Damp          Daylight: Street lights present   \n",
       "4               U    Wet/Damp  Darkness: Street lights present and lit   \n",
       "5               U         Dry          Daylight: Street lights present   \n",
       "8              M1         Dry             Darkness: No street lighting   \n",
       "...           ...         ...                                      ...   \n",
       "2196            U         Dry          Daylight: Street lights present   \n",
       "2197            U        Snow          Daylight: Street lights present   \n",
       "2198            U        Snow          Daylight: Street lights present   \n",
       "2199            U    Wet/Damp  Darkness: Street lights present and lit   \n",
       "2200        B6381    Wet/Damp  Darkness: Street lights present and lit   \n",
       "\n",
       "                WeatherCondition  \\\n",
       "2        Fine without high winds   \n",
       "3        Fine without high winds   \n",
       "4     Raining without high winds   \n",
       "5        Fine without high winds   \n",
       "8        Fine without high winds   \n",
       "...                          ...   \n",
       "2196     Fine without high winds   \n",
       "2197  Snowing without high winds   \n",
       "2198  Snowing without high winds   \n",
       "2199  Raining without high winds   \n",
       "2200  Raining without high winds   \n",
       "\n",
       "                                            TypeVehicle  \\\n",
       "2                                                   Car   \n",
       "3                                                   Car   \n",
       "4                                                   Car   \n",
       "5                                                   Car   \n",
       "8                                                   Car   \n",
       "...                                                 ...   \n",
       "2196                                                Car   \n",
       "2197                                                Car   \n",
       "2198                                                Car   \n",
       "2199  Motorcycle 12Motorcycle over 500cccc to Motorc...   \n",
       "2200                                                Car   \n",
       "\n",
       "                     CasualtyClass CasualtySeverity SexCasualty  AgeCasualty  \n",
       "2                  Driver or rider           Slight        Male           32  \n",
       "3                  Driver or rider           Slight        Male           30  \n",
       "4     Vehicle or pillion passenger           Slight      Female           26  \n",
       "5                  Driver or rider           Slight      Female           34  \n",
       "8                  Driver or rider           Slight        Male           18  \n",
       "...                            ...              ...         ...          ...  \n",
       "2196               Driver or rider           Slight        Male           21  \n",
       "2197               Driver or rider           Slight        Male           19  \n",
       "2198  Vehicle or pillion passenger           Slight        Male           21  \n",
       "2199               Driver or rider           Slight        Male           23  \n",
       "2200               Driver or rider           Slight        Male           20  \n",
       "\n",
       "[2203 rows x 15 columns]"
      ]
     },
     "execution_count": 10,
     "metadata": {},
     "output_type": "execute_result"
    }
   ],
   "source": [
    "df.sort_values(by='AccidentDate')"
   ]
  },
  {
   "cell_type": "code",
   "execution_count": 14,
   "metadata": {},
   "outputs": [
    {
     "data": {
      "text/plain": [
       "RefNum              2203\n",
       "GridRefEast         2203\n",
       "GridRefNorth        2203\n",
       "NumberOfVehicle     2203\n",
       "AccidentDate        2203\n",
       "Time                2203\n",
       "1stRoadClass        2203\n",
       "RoadSurface         2203\n",
       "LightCondition      2203\n",
       "WeatherCondition    2203\n",
       "TypeVehicle         2203\n",
       "CasualtyClass       2203\n",
       "CasualtySeverity    2203\n",
       "SexCasualty         2203\n",
       "AgeCasualty         2203\n",
       "dtype: int64"
      ]
     },
     "execution_count": 14,
     "metadata": {},
     "output_type": "execute_result"
    }
   ],
   "source": [
    "df.count()"
   ]
  },
  {
   "cell_type": "markdown",
   "metadata": {},
   "source": [
    "## Question 2: What are accident ocur during the seasons?"
   ]
  },
  {
   "cell_type": "markdown",
   "metadata": {},
   "source": [
    "#### I seperate the dates into the seasons. Then, I use mask method to filter required data and then use .count() method to access the number of accidents through the seasons."
   ]
  },
  {
   "cell_type": "code",
   "execution_count": 15,
   "metadata": {},
   "outputs": [],
   "source": [
    "summer_start_date = '2017-06-01'\n",
    "summer_end_date = '2017-08-31'"
   ]
  },
  {
   "cell_type": "code",
   "execution_count": 16,
   "metadata": {},
   "outputs": [],
   "source": [
    "mask_summer = (df['AccidentDate'] >= summer_start_date) & (df['AccidentDate'] <= summer_end_date)"
   ]
  },
  {
   "cell_type": "code",
   "execution_count": 17,
   "metadata": {},
   "outputs": [
    {
     "data": {
      "text/html": [
       "<div>\n",
       "<style scoped>\n",
       "    .dataframe tbody tr th:only-of-type {\n",
       "        vertical-align: middle;\n",
       "    }\n",
       "\n",
       "    .dataframe tbody tr th {\n",
       "        vertical-align: top;\n",
       "    }\n",
       "\n",
       "    .dataframe thead th {\n",
       "        text-align: right;\n",
       "    }\n",
       "</style>\n",
       "<table border=\"1\" class=\"dataframe\">\n",
       "  <thead>\n",
       "    <tr style=\"text-align: right;\">\n",
       "      <th></th>\n",
       "      <th>RefNum</th>\n",
       "      <th>GridRefEast</th>\n",
       "      <th>GridRefNorth</th>\n",
       "      <th>NumberOfVehicle</th>\n",
       "      <th>AccidentDate</th>\n",
       "      <th>Time</th>\n",
       "      <th>1stRoadClass</th>\n",
       "      <th>RoadSurface</th>\n",
       "      <th>LightCondition</th>\n",
       "      <th>WeatherCondition</th>\n",
       "      <th>TypeVehicle</th>\n",
       "      <th>CasualtyClass</th>\n",
       "      <th>CasualtySeverity</th>\n",
       "      <th>SexCasualty</th>\n",
       "      <th>AgeCasualty</th>\n",
       "    </tr>\n",
       "  </thead>\n",
       "  <tbody>\n",
       "    <tr>\n",
       "      <th>597</th>\n",
       "      <td>44D0633</td>\n",
       "      <td>433999</td>\n",
       "      <td>435142</td>\n",
       "      <td>2</td>\n",
       "      <td>2017-07-04</td>\n",
       "      <td>1229</td>\n",
       "      <td>U</td>\n",
       "      <td>Dry</td>\n",
       "      <td>Daylight: Street lights present</td>\n",
       "      <td>Fine without high winds</td>\n",
       "      <td>Taxi/Private hire car</td>\n",
       "      <td>Vehicle or pillion passenger</td>\n",
       "      <td>Slight</td>\n",
       "      <td>Female</td>\n",
       "      <td>41</td>\n",
       "    </tr>\n",
       "    <tr>\n",
       "      <th>745</th>\n",
       "      <td>4591031</td>\n",
       "      <td>431629</td>\n",
       "      <td>435294</td>\n",
       "      <td>1</td>\n",
       "      <td>2017-06-09</td>\n",
       "      <td>1440</td>\n",
       "      <td>A58</td>\n",
       "      <td>Dry</td>\n",
       "      <td>Daylight: Street lights present</td>\n",
       "      <td>Fine without high winds</td>\n",
       "      <td>Car</td>\n",
       "      <td>Pedestrian</td>\n",
       "      <td>Serious</td>\n",
       "      <td>Male</td>\n",
       "      <td>79</td>\n",
       "    </tr>\n",
       "    <tr>\n",
       "      <th>863</th>\n",
       "      <td>4610704</td>\n",
       "      <td>427468</td>\n",
       "      <td>438752</td>\n",
       "      <td>1</td>\n",
       "      <td>2017-06-01</td>\n",
       "      <td>1600</td>\n",
       "      <td>U</td>\n",
       "      <td>Dry</td>\n",
       "      <td>Daylight: Street lights present</td>\n",
       "      <td>Fine without high winds</td>\n",
       "      <td>Car</td>\n",
       "      <td>Pedestrian</td>\n",
       "      <td>Slight</td>\n",
       "      <td>Female</td>\n",
       "      <td>11</td>\n",
       "    </tr>\n",
       "    <tr>\n",
       "      <th>864</th>\n",
       "      <td>4610732</td>\n",
       "      <td>425137</td>\n",
       "      <td>434208</td>\n",
       "      <td>1</td>\n",
       "      <td>2017-06-01</td>\n",
       "      <td>1220</td>\n",
       "      <td>U</td>\n",
       "      <td>Dry</td>\n",
       "      <td>Daylight: Street lights present</td>\n",
       "      <td>Fine without high winds</td>\n",
       "      <td>Car</td>\n",
       "      <td>Pedestrian</td>\n",
       "      <td>Slight</td>\n",
       "      <td>Female</td>\n",
       "      <td>18</td>\n",
       "    </tr>\n",
       "    <tr>\n",
       "      <th>865</th>\n",
       "      <td>4610951</td>\n",
       "      <td>430062</td>\n",
       "      <td>433712</td>\n",
       "      <td>1</td>\n",
       "      <td>2017-06-01</td>\n",
       "      <td>1310</td>\n",
       "      <td>U</td>\n",
       "      <td>Dry</td>\n",
       "      <td>Daylight: Street lights present</td>\n",
       "      <td>Fine without high winds</td>\n",
       "      <td>Car</td>\n",
       "      <td>Driver or rider</td>\n",
       "      <td>Slight</td>\n",
       "      <td>Female</td>\n",
       "      <td>37</td>\n",
       "    </tr>\n",
       "    <tr>\n",
       "      <th>...</th>\n",
       "      <td>...</td>\n",
       "      <td>...</td>\n",
       "      <td>...</td>\n",
       "      <td>...</td>\n",
       "      <td>...</td>\n",
       "      <td>...</td>\n",
       "      <td>...</td>\n",
       "      <td>...</td>\n",
       "      <td>...</td>\n",
       "      <td>...</td>\n",
       "      <td>...</td>\n",
       "      <td>...</td>\n",
       "      <td>...</td>\n",
       "      <td>...</td>\n",
       "      <td>...</td>\n",
       "    </tr>\n",
       "    <tr>\n",
       "      <th>1366</th>\n",
       "      <td>48V0882</td>\n",
       "      <td>426188</td>\n",
       "      <td>435500</td>\n",
       "      <td>1</td>\n",
       "      <td>2017-08-28</td>\n",
       "      <td>1435</td>\n",
       "      <td>U</td>\n",
       "      <td>Dry</td>\n",
       "      <td>Daylight: Street lights present</td>\n",
       "      <td>Fine without high winds</td>\n",
       "      <td>Car</td>\n",
       "      <td>Pedestrian</td>\n",
       "      <td>Slight</td>\n",
       "      <td>Male</td>\n",
       "      <td>40</td>\n",
       "    </tr>\n",
       "    <tr>\n",
       "      <th>1367</th>\n",
       "      <td>48V1360</td>\n",
       "      <td>427452</td>\n",
       "      <td>431884</td>\n",
       "      <td>3</td>\n",
       "      <td>2017-08-31</td>\n",
       "      <td>1808</td>\n",
       "      <td>A58</td>\n",
       "      <td>Dry</td>\n",
       "      <td>Darkness: Street lighting unknown</td>\n",
       "      <td>Fine without high winds</td>\n",
       "      <td>Car</td>\n",
       "      <td>Driver or rider</td>\n",
       "      <td>Slight</td>\n",
       "      <td>Male</td>\n",
       "      <td>40</td>\n",
       "    </tr>\n",
       "    <tr>\n",
       "      <th>1368</th>\n",
       "      <td>48V1360</td>\n",
       "      <td>427452</td>\n",
       "      <td>431884</td>\n",
       "      <td>3</td>\n",
       "      <td>2017-08-31</td>\n",
       "      <td>1808</td>\n",
       "      <td>A58</td>\n",
       "      <td>Dry</td>\n",
       "      <td>Darkness: Street lighting unknown</td>\n",
       "      <td>Fine without high winds</td>\n",
       "      <td>Car</td>\n",
       "      <td>Vehicle or pillion passenger</td>\n",
       "      <td>Slight</td>\n",
       "      <td>Female</td>\n",
       "      <td>34</td>\n",
       "    </tr>\n",
       "    <tr>\n",
       "      <th>1389</th>\n",
       "      <td>4941199</td>\n",
       "      <td>430254</td>\n",
       "      <td>433541</td>\n",
       "      <td>2</td>\n",
       "      <td>2017-08-24</td>\n",
       "      <td>1000</td>\n",
       "      <td>U</td>\n",
       "      <td>Dry</td>\n",
       "      <td>Daylight: Street lights present</td>\n",
       "      <td>Fine without high winds</td>\n",
       "      <td>Car0</td>\n",
       "      <td>Driver or rider</td>\n",
       "      <td>Slight</td>\n",
       "      <td>Male</td>\n",
       "      <td>36</td>\n",
       "    </tr>\n",
       "    <tr>\n",
       "      <th>2202</th>\n",
       "      <td>56R0735</td>\n",
       "      <td>421554</td>\n",
       "      <td>435973</td>\n",
       "      <td>2</td>\n",
       "      <td>2017-06-27</td>\n",
       "      <td>1400</td>\n",
       "      <td>U</td>\n",
       "      <td>Wet/Damp</td>\n",
       "      <td>Daylight: Street lights present</td>\n",
       "      <td>Raining without high winds</td>\n",
       "      <td>Car0</td>\n",
       "      <td>Driver or rider</td>\n",
       "      <td>Slight</td>\n",
       "      <td>Male</td>\n",
       "      <td>27</td>\n",
       "    </tr>\n",
       "  </tbody>\n",
       "</table>\n",
       "<p>508 rows × 15 columns</p>\n",
       "</div>"
      ],
      "text/plain": [
       "       RefNum  GridRefEast  GridRefNorth  NumberOfVehicle AccidentDate  Time  \\\n",
       "597   44D0633       433999        435142                2   2017-07-04  1229   \n",
       "745   4591031       431629        435294                1   2017-06-09  1440   \n",
       "863   4610704       427468        438752                1   2017-06-01  1600   \n",
       "864   4610732       425137        434208                1   2017-06-01  1220   \n",
       "865   4610951       430062        433712                1   2017-06-01  1310   \n",
       "...       ...          ...           ...              ...          ...   ...   \n",
       "1366  48V0882       426188        435500                1   2017-08-28  1435   \n",
       "1367  48V1360       427452        431884                3   2017-08-31  1808   \n",
       "1368  48V1360       427452        431884                3   2017-08-31  1808   \n",
       "1389  4941199       430254        433541                2   2017-08-24  1000   \n",
       "2202  56R0735       421554        435973                2   2017-06-27  1400   \n",
       "\n",
       "     1stRoadClass RoadSurface                     LightCondition  \\\n",
       "597             U         Dry    Daylight: Street lights present   \n",
       "745           A58         Dry    Daylight: Street lights present   \n",
       "863             U         Dry    Daylight: Street lights present   \n",
       "864             U         Dry    Daylight: Street lights present   \n",
       "865             U         Dry    Daylight: Street lights present   \n",
       "...           ...         ...                                ...   \n",
       "1366            U         Dry    Daylight: Street lights present   \n",
       "1367          A58         Dry  Darkness: Street lighting unknown   \n",
       "1368          A58         Dry  Darkness: Street lighting unknown   \n",
       "1389            U         Dry    Daylight: Street lights present   \n",
       "2202            U    Wet/Damp    Daylight: Street lights present   \n",
       "\n",
       "                WeatherCondition            TypeVehicle  \\\n",
       "597      Fine without high winds  Taxi/Private hire car   \n",
       "745      Fine without high winds                    Car   \n",
       "863      Fine without high winds                    Car   \n",
       "864      Fine without high winds                    Car   \n",
       "865      Fine without high winds                    Car   \n",
       "...                          ...                    ...   \n",
       "1366     Fine without high winds                    Car   \n",
       "1367     Fine without high winds                    Car   \n",
       "1368     Fine without high winds                    Car   \n",
       "1389     Fine without high winds                   Car0   \n",
       "2202  Raining without high winds                   Car0   \n",
       "\n",
       "                     CasualtyClass CasualtySeverity SexCasualty  AgeCasualty  \n",
       "597   Vehicle or pillion passenger           Slight      Female           41  \n",
       "745                     Pedestrian          Serious        Male           79  \n",
       "863                     Pedestrian           Slight      Female           11  \n",
       "864                     Pedestrian           Slight      Female           18  \n",
       "865                Driver or rider           Slight      Female           37  \n",
       "...                            ...              ...         ...          ...  \n",
       "1366                    Pedestrian           Slight        Male           40  \n",
       "1367               Driver or rider           Slight        Male           40  \n",
       "1368  Vehicle or pillion passenger           Slight      Female           34  \n",
       "1389               Driver or rider           Slight        Male           36  \n",
       "2202               Driver or rider           Slight        Male           27  \n",
       "\n",
       "[508 rows x 15 columns]"
      ]
     },
     "execution_count": 17,
     "metadata": {},
     "output_type": "execute_result"
    }
   ],
   "source": [
    "df_mask_summer = df.loc[mask_summer]\n",
    "df_mask_summer"
   ]
  },
  {
   "cell_type": "code",
   "execution_count": 18,
   "metadata": {},
   "outputs": [
    {
     "data": {
      "text/plain": [
       "RefNum              508\n",
       "GridRefEast         508\n",
       "GridRefNorth        508\n",
       "NumberOfVehicle     508\n",
       "AccidentDate        508\n",
       "Time                508\n",
       "1stRoadClass        508\n",
       "RoadSurface         508\n",
       "LightCondition      508\n",
       "WeatherCondition    508\n",
       "TypeVehicle         508\n",
       "CasualtyClass       508\n",
       "CasualtySeverity    508\n",
       "SexCasualty         508\n",
       "AgeCasualty         508\n",
       "dtype: int64"
      ]
     },
     "execution_count": 18,
     "metadata": {},
     "output_type": "execute_result"
    }
   ],
   "source": [
    "df_mask_summer.count()"
   ]
  },
  {
   "cell_type": "code",
   "execution_count": 19,
   "metadata": {},
   "outputs": [],
   "source": [
    "spring_start_date = '2017-03-01'\n",
    "spring_end_date = '2017-05-31'"
   ]
  },
  {
   "cell_type": "code",
   "execution_count": 20,
   "metadata": {},
   "outputs": [],
   "source": [
    "mask_spring = (df['AccidentDate'] >= spring_start_date) & (df['AccidentDate'] <= spring_end_date)"
   ]
  },
  {
   "cell_type": "code",
   "execution_count": 21,
   "metadata": {},
   "outputs": [
    {
     "data": {
      "text/html": [
       "<div>\n",
       "<style scoped>\n",
       "    .dataframe tbody tr th:only-of-type {\n",
       "        vertical-align: middle;\n",
       "    }\n",
       "\n",
       "    .dataframe tbody tr th {\n",
       "        vertical-align: top;\n",
       "    }\n",
       "\n",
       "    .dataframe thead th {\n",
       "        text-align: right;\n",
       "    }\n",
       "</style>\n",
       "<table border=\"1\" class=\"dataframe\">\n",
       "  <thead>\n",
       "    <tr style=\"text-align: right;\">\n",
       "      <th></th>\n",
       "      <th>RefNum</th>\n",
       "      <th>GridRefEast</th>\n",
       "      <th>GridRefNorth</th>\n",
       "      <th>NumberOfVehicle</th>\n",
       "      <th>AccidentDate</th>\n",
       "      <th>Time</th>\n",
       "      <th>1stRoadClass</th>\n",
       "      <th>RoadSurface</th>\n",
       "      <th>LightCondition</th>\n",
       "      <th>WeatherCondition</th>\n",
       "      <th>TypeVehicle</th>\n",
       "      <th>CasualtyClass</th>\n",
       "      <th>CasualtySeverity</th>\n",
       "      <th>SexCasualty</th>\n",
       "      <th>AgeCasualty</th>\n",
       "    </tr>\n",
       "  </thead>\n",
       "  <tbody>\n",
       "    <tr>\n",
       "      <th>0</th>\n",
       "      <td>3AP0313</td>\n",
       "      <td>426340</td>\n",
       "      <td>428455</td>\n",
       "      <td>1</td>\n",
       "      <td>2017-03-17</td>\n",
       "      <td>0815</td>\n",
       "      <td>A643</td>\n",
       "      <td>Dry</td>\n",
       "      <td>Daylight: Street lights present</td>\n",
       "      <td>Other</td>\n",
       "      <td>Car</td>\n",
       "      <td>Pedestrian</td>\n",
       "      <td>Serious</td>\n",
       "      <td>Female</td>\n",
       "      <td>61</td>\n",
       "    </tr>\n",
       "    <tr>\n",
       "      <th>318</th>\n",
       "      <td>42L1122</td>\n",
       "      <td>430063</td>\n",
       "      <td>433752</td>\n",
       "      <td>1</td>\n",
       "      <td>2017-03-05</td>\n",
       "      <td>1629</td>\n",
       "      <td>U</td>\n",
       "      <td>Dry</td>\n",
       "      <td>Daylight: Street lights present</td>\n",
       "      <td>Fine without high winds</td>\n",
       "      <td>Car</td>\n",
       "      <td>Pedestrian</td>\n",
       "      <td>Slight</td>\n",
       "      <td>Female</td>\n",
       "      <td>37</td>\n",
       "    </tr>\n",
       "    <tr>\n",
       "      <th>350</th>\n",
       "      <td>42S0213</td>\n",
       "      <td>431917</td>\n",
       "      <td>428200</td>\n",
       "      <td>2</td>\n",
       "      <td>2017-03-02</td>\n",
       "      <td>0754</td>\n",
       "      <td>M1</td>\n",
       "      <td>Dry</td>\n",
       "      <td>Daylight: Street lights present</td>\n",
       "      <td>Fine without high winds</td>\n",
       "      <td>Motorcycle over 500cc</td>\n",
       "      <td>Driver or rider</td>\n",
       "      <td>Serious</td>\n",
       "      <td>Male</td>\n",
       "      <td>51</td>\n",
       "    </tr>\n",
       "    <tr>\n",
       "      <th>356</th>\n",
       "      <td>4310185</td>\n",
       "      <td>432491</td>\n",
       "      <td>434874</td>\n",
       "      <td>2</td>\n",
       "      <td>2017-03-01</td>\n",
       "      <td>0658</td>\n",
       "      <td>U</td>\n",
       "      <td>Wet/Damp</td>\n",
       "      <td>Darkness: Street lights present and lit</td>\n",
       "      <td>Raining without high winds</td>\n",
       "      <td>Motorcycle Motorcycle over 500cc0cc to 12Motor...</td>\n",
       "      <td>Driver or rider</td>\n",
       "      <td>Serious</td>\n",
       "      <td>Male</td>\n",
       "      <td>21</td>\n",
       "    </tr>\n",
       "    <tr>\n",
       "      <th>357</th>\n",
       "      <td>4310195</td>\n",
       "      <td>417632</td>\n",
       "      <td>441398</td>\n",
       "      <td>2</td>\n",
       "      <td>2017-03-01</td>\n",
       "      <td>0720</td>\n",
       "      <td>U</td>\n",
       "      <td>Dry</td>\n",
       "      <td>Darkness: Street lighting unknown</td>\n",
       "      <td>Fine without high winds</td>\n",
       "      <td>Car</td>\n",
       "      <td>Driver or rider</td>\n",
       "      <td>Slight</td>\n",
       "      <td>Male</td>\n",
       "      <td>33</td>\n",
       "    </tr>\n",
       "    <tr>\n",
       "      <th>...</th>\n",
       "      <td>...</td>\n",
       "      <td>...</td>\n",
       "      <td>...</td>\n",
       "      <td>...</td>\n",
       "      <td>...</td>\n",
       "      <td>...</td>\n",
       "      <td>...</td>\n",
       "      <td>...</td>\n",
       "      <td>...</td>\n",
       "      <td>...</td>\n",
       "      <td>...</td>\n",
       "      <td>...</td>\n",
       "      <td>...</td>\n",
       "      <td>...</td>\n",
       "      <td>...</td>\n",
       "    </tr>\n",
       "    <tr>\n",
       "      <th>859</th>\n",
       "      <td>45V0271</td>\n",
       "      <td>434620</td>\n",
       "      <td>441230</td>\n",
       "      <td>2</td>\n",
       "      <td>2017-05-31</td>\n",
       "      <td>0725</td>\n",
       "      <td>U</td>\n",
       "      <td>Dry</td>\n",
       "      <td>Darkness: Street lighting unknown</td>\n",
       "      <td>Fine without high winds</td>\n",
       "      <td>Car</td>\n",
       "      <td>Driver or rider</td>\n",
       "      <td>Slight</td>\n",
       "      <td>Female</td>\n",
       "      <td>29</td>\n",
       "    </tr>\n",
       "    <tr>\n",
       "      <th>860</th>\n",
       "      <td>45V0514</td>\n",
       "      <td>429559</td>\n",
       "      <td>431566</td>\n",
       "      <td>3</td>\n",
       "      <td>2017-05-31</td>\n",
       "      <td>1048</td>\n",
       "      <td>U</td>\n",
       "      <td>Dry</td>\n",
       "      <td>Daylight: Street lights present</td>\n",
       "      <td>Fine without high winds</td>\n",
       "      <td>Pedal cycle</td>\n",
       "      <td>Driver or rider</td>\n",
       "      <td>Slight</td>\n",
       "      <td>Male</td>\n",
       "      <td>19</td>\n",
       "    </tr>\n",
       "    <tr>\n",
       "      <th>861</th>\n",
       "      <td>45V1173</td>\n",
       "      <td>431416</td>\n",
       "      <td>435239</td>\n",
       "      <td>1</td>\n",
       "      <td>2017-05-31</td>\n",
       "      <td>1609</td>\n",
       "      <td>U</td>\n",
       "      <td>Dry</td>\n",
       "      <td>Daylight: Street lights present</td>\n",
       "      <td>Fine without high winds</td>\n",
       "      <td>Car</td>\n",
       "      <td>Pedestrian</td>\n",
       "      <td>Slight</td>\n",
       "      <td>Male</td>\n",
       "      <td>3</td>\n",
       "    </tr>\n",
       "    <tr>\n",
       "      <th>862</th>\n",
       "      <td>45V1564</td>\n",
       "      <td>425848</td>\n",
       "      <td>434400</td>\n",
       "      <td>3</td>\n",
       "      <td>2017-05-31</td>\n",
       "      <td>1800</td>\n",
       "      <td>U</td>\n",
       "      <td>Dry</td>\n",
       "      <td>Darkness: Street lighting unknown</td>\n",
       "      <td>Fine without high winds</td>\n",
       "      <td>Car</td>\n",
       "      <td>Driver or rider</td>\n",
       "      <td>Slight</td>\n",
       "      <td>Female</td>\n",
       "      <td>24</td>\n",
       "    </tr>\n",
       "    <tr>\n",
       "      <th>888</th>\n",
       "      <td>4641002</td>\n",
       "      <td>441096</td>\n",
       "      <td>449534</td>\n",
       "      <td>2</td>\n",
       "      <td>2017-05-30</td>\n",
       "      <td>1200</td>\n",
       "      <td>A1(M)</td>\n",
       "      <td>Dry</td>\n",
       "      <td>Daylight: Street lights present</td>\n",
       "      <td>Fine without high winds</td>\n",
       "      <td>Car</td>\n",
       "      <td>Driver or rider</td>\n",
       "      <td>Slight</td>\n",
       "      <td>Female</td>\n",
       "      <td>29</td>\n",
       "    </tr>\n",
       "  </tbody>\n",
       "</table>\n",
       "<p>509 rows × 15 columns</p>\n",
       "</div>"
      ],
      "text/plain": [
       "      RefNum  GridRefEast  GridRefNorth  NumberOfVehicle AccidentDate  Time  \\\n",
       "0    3AP0313       426340        428455                1   2017-03-17  0815   \n",
       "318  42L1122       430063        433752                1   2017-03-05  1629   \n",
       "350  42S0213       431917        428200                2   2017-03-02  0754   \n",
       "356  4310185       432491        434874                2   2017-03-01  0658   \n",
       "357  4310195       417632        441398                2   2017-03-01  0720   \n",
       "..       ...          ...           ...              ...          ...   ...   \n",
       "859  45V0271       434620        441230                2   2017-05-31  0725   \n",
       "860  45V0514       429559        431566                3   2017-05-31  1048   \n",
       "861  45V1173       431416        435239                1   2017-05-31  1609   \n",
       "862  45V1564       425848        434400                3   2017-05-31  1800   \n",
       "888  4641002       441096        449534                2   2017-05-30  1200   \n",
       "\n",
       "    1stRoadClass RoadSurface                           LightCondition  \\\n",
       "0           A643         Dry          Daylight: Street lights present   \n",
       "318            U         Dry          Daylight: Street lights present   \n",
       "350           M1         Dry          Daylight: Street lights present   \n",
       "356            U    Wet/Damp  Darkness: Street lights present and lit   \n",
       "357            U         Dry        Darkness: Street lighting unknown   \n",
       "..           ...         ...                                      ...   \n",
       "859            U         Dry        Darkness: Street lighting unknown   \n",
       "860            U         Dry          Daylight: Street lights present   \n",
       "861            U         Dry          Daylight: Street lights present   \n",
       "862            U         Dry        Darkness: Street lighting unknown   \n",
       "888        A1(M)         Dry          Daylight: Street lights present   \n",
       "\n",
       "               WeatherCondition  \\\n",
       "0                         Other   \n",
       "318     Fine without high winds   \n",
       "350     Fine without high winds   \n",
       "356  Raining without high winds   \n",
       "357     Fine without high winds   \n",
       "..                          ...   \n",
       "859     Fine without high winds   \n",
       "860     Fine without high winds   \n",
       "861     Fine without high winds   \n",
       "862     Fine without high winds   \n",
       "888     Fine without high winds   \n",
       "\n",
       "                                           TypeVehicle    CasualtyClass  \\\n",
       "0                                                  Car       Pedestrian   \n",
       "318                                                Car       Pedestrian   \n",
       "350                              Motorcycle over 500cc  Driver or rider   \n",
       "356  Motorcycle Motorcycle over 500cc0cc to 12Motor...  Driver or rider   \n",
       "357                                                Car  Driver or rider   \n",
       "..                                                 ...              ...   \n",
       "859                                                Car  Driver or rider   \n",
       "860                                        Pedal cycle  Driver or rider   \n",
       "861                                                Car       Pedestrian   \n",
       "862                                                Car  Driver or rider   \n",
       "888                                                Car  Driver or rider   \n",
       "\n",
       "    CasualtySeverity SexCasualty  AgeCasualty  \n",
       "0            Serious      Female           61  \n",
       "318           Slight      Female           37  \n",
       "350          Serious        Male           51  \n",
       "356          Serious        Male           21  \n",
       "357           Slight        Male           33  \n",
       "..               ...         ...          ...  \n",
       "859           Slight      Female           29  \n",
       "860           Slight        Male           19  \n",
       "861           Slight        Male            3  \n",
       "862           Slight      Female           24  \n",
       "888           Slight      Female           29  \n",
       "\n",
       "[509 rows x 15 columns]"
      ]
     },
     "execution_count": 21,
     "metadata": {},
     "output_type": "execute_result"
    }
   ],
   "source": [
    "df_mask_spring = df.loc[mask_spring]\n",
    "df_mask_spring"
   ]
  },
  {
   "cell_type": "code",
   "execution_count": 22,
   "metadata": {},
   "outputs": [
    {
     "data": {
      "text/plain": [
       "RefNum              509\n",
       "GridRefEast         509\n",
       "GridRefNorth        509\n",
       "NumberOfVehicle     509\n",
       "AccidentDate        509\n",
       "Time                509\n",
       "1stRoadClass        509\n",
       "RoadSurface         509\n",
       "LightCondition      509\n",
       "WeatherCondition    509\n",
       "TypeVehicle         509\n",
       "CasualtyClass       509\n",
       "CasualtySeverity    509\n",
       "SexCasualty         509\n",
       "AgeCasualty         509\n",
       "dtype: int64"
      ]
     },
     "execution_count": 22,
     "metadata": {},
     "output_type": "execute_result"
    }
   ],
   "source": [
    "df_mask_spring.count()"
   ]
  },
  {
   "cell_type": "code",
   "execution_count": 23,
   "metadata": {},
   "outputs": [],
   "source": [
    "autumn_start_date = '2017-09-01'\n",
    "autumn_end_date = '2017-11-30'"
   ]
  },
  {
   "cell_type": "code",
   "execution_count": 24,
   "metadata": {},
   "outputs": [],
   "source": [
    "mask_autumn = (df['AccidentDate'] >= autumn_start_date) & (df['AccidentDate'] <= autumn_end_date)"
   ]
  },
  {
   "cell_type": "code",
   "execution_count": 25,
   "metadata": {},
   "outputs": [
    {
     "data": {
      "text/html": [
       "<div>\n",
       "<style scoped>\n",
       "    .dataframe tbody tr th:only-of-type {\n",
       "        vertical-align: middle;\n",
       "    }\n",
       "\n",
       "    .dataframe tbody tr th {\n",
       "        vertical-align: top;\n",
       "    }\n",
       "\n",
       "    .dataframe thead th {\n",
       "        text-align: right;\n",
       "    }\n",
       "</style>\n",
       "<table border=\"1\" class=\"dataframe\">\n",
       "  <thead>\n",
       "    <tr style=\"text-align: right;\">\n",
       "      <th></th>\n",
       "      <th>RefNum</th>\n",
       "      <th>GridRefEast</th>\n",
       "      <th>GridRefNorth</th>\n",
       "      <th>NumberOfVehicle</th>\n",
       "      <th>AccidentDate</th>\n",
       "      <th>Time</th>\n",
       "      <th>1stRoadClass</th>\n",
       "      <th>RoadSurface</th>\n",
       "      <th>LightCondition</th>\n",
       "      <th>WeatherCondition</th>\n",
       "      <th>TypeVehicle</th>\n",
       "      <th>CasualtyClass</th>\n",
       "      <th>CasualtySeverity</th>\n",
       "      <th>SexCasualty</th>\n",
       "      <th>AgeCasualty</th>\n",
       "    </tr>\n",
       "  </thead>\n",
       "  <tbody>\n",
       "    <tr>\n",
       "      <th>1279</th>\n",
       "      <td>48C1280</td>\n",
       "      <td>429273</td>\n",
       "      <td>438616</td>\n",
       "      <td>2</td>\n",
       "      <td>2017-09-12</td>\n",
       "      <td>1718</td>\n",
       "      <td>A6120</td>\n",
       "      <td>Dry</td>\n",
       "      <td>Daylight: Street lights present</td>\n",
       "      <td>Fine without high winds</td>\n",
       "      <td>Car</td>\n",
       "      <td>Driver or rider</td>\n",
       "      <td>Slight</td>\n",
       "      <td>Female</td>\n",
       "      <td>31</td>\n",
       "    </tr>\n",
       "    <tr>\n",
       "      <th>1369</th>\n",
       "      <td>4911338</td>\n",
       "      <td>432049</td>\n",
       "      <td>426272</td>\n",
       "      <td>2</td>\n",
       "      <td>2017-09-01</td>\n",
       "      <td>1727</td>\n",
       "      <td>M1</td>\n",
       "      <td>Dry</td>\n",
       "      <td>Darkness: Street lighting unknown</td>\n",
       "      <td>Fine without high winds</td>\n",
       "      <td>Car</td>\n",
       "      <td>Driver or rider</td>\n",
       "      <td>Slight</td>\n",
       "      <td>Female</td>\n",
       "      <td>20</td>\n",
       "    </tr>\n",
       "    <tr>\n",
       "      <th>1370</th>\n",
       "      <td>4911467</td>\n",
       "      <td>435936</td>\n",
       "      <td>426644</td>\n",
       "      <td>1</td>\n",
       "      <td>2017-09-01</td>\n",
       "      <td>1820</td>\n",
       "      <td>A642</td>\n",
       "      <td>Dry</td>\n",
       "      <td>Darkness: Street lighting unknown</td>\n",
       "      <td>Fine without high winds</td>\n",
       "      <td>Motorcycle Motorcycle over 500cc0cc and under0</td>\n",
       "      <td>Pedestrian</td>\n",
       "      <td>Slight</td>\n",
       "      <td>Male</td>\n",
       "      <td>32</td>\n",
       "    </tr>\n",
       "    <tr>\n",
       "      <th>1371</th>\n",
       "      <td>4920799</td>\n",
       "      <td>436168</td>\n",
       "      <td>434724</td>\n",
       "      <td>2</td>\n",
       "      <td>2017-09-02</td>\n",
       "      <td>1220</td>\n",
       "      <td>A6120</td>\n",
       "      <td>Dry</td>\n",
       "      <td>Daylight: Street lights present</td>\n",
       "      <td>Fine without high winds</td>\n",
       "      <td>Car</td>\n",
       "      <td>Vehicle or pillion passenger</td>\n",
       "      <td>Slight</td>\n",
       "      <td>Female</td>\n",
       "      <td>10</td>\n",
       "    </tr>\n",
       "    <tr>\n",
       "      <th>1372</th>\n",
       "      <td>4921305</td>\n",
       "      <td>435718</td>\n",
       "      <td>436940</td>\n",
       "      <td>1</td>\n",
       "      <td>2017-09-02</td>\n",
       "      <td>1630</td>\n",
       "      <td>A6120</td>\n",
       "      <td>Dry</td>\n",
       "      <td>Daylight: Street lights present</td>\n",
       "      <td>Fine without high winds</td>\n",
       "      <td>Car</td>\n",
       "      <td>Pedestrian</td>\n",
       "      <td>Serious</td>\n",
       "      <td>Male</td>\n",
       "      <td>22</td>\n",
       "    </tr>\n",
       "    <tr>\n",
       "      <th>...</th>\n",
       "      <td>...</td>\n",
       "      <td>...</td>\n",
       "      <td>...</td>\n",
       "      <td>...</td>\n",
       "      <td>...</td>\n",
       "      <td>...</td>\n",
       "      <td>...</td>\n",
       "      <td>...</td>\n",
       "      <td>...</td>\n",
       "      <td>...</td>\n",
       "      <td>...</td>\n",
       "      <td>...</td>\n",
       "      <td>...</td>\n",
       "      <td>...</td>\n",
       "      <td>...</td>\n",
       "    </tr>\n",
       "    <tr>\n",
       "      <th>2003</th>\n",
       "      <td>4BU0335</td>\n",
       "      <td>432676</td>\n",
       "      <td>434592</td>\n",
       "      <td>2</td>\n",
       "      <td>2017-11-30</td>\n",
       "      <td>0740</td>\n",
       "      <td>B6159</td>\n",
       "      <td>Wet/Damp</td>\n",
       "      <td>Darkness: Street lights present and lit</td>\n",
       "      <td>Fine without high winds</td>\n",
       "      <td>Car</td>\n",
       "      <td>Driver or rider</td>\n",
       "      <td>Slight</td>\n",
       "      <td>Female</td>\n",
       "      <td>43</td>\n",
       "    </tr>\n",
       "    <tr>\n",
       "      <th>2004</th>\n",
       "      <td>4BU0803</td>\n",
       "      <td>425291</td>\n",
       "      <td>428294</td>\n",
       "      <td>2</td>\n",
       "      <td>2017-11-30</td>\n",
       "      <td>1315</td>\n",
       "      <td>M621</td>\n",
       "      <td>Dry</td>\n",
       "      <td>Daylight: Street lights present</td>\n",
       "      <td>Fine without high winds</td>\n",
       "      <td>Car</td>\n",
       "      <td>Driver or rider</td>\n",
       "      <td>Slight</td>\n",
       "      <td>Male</td>\n",
       "      <td>25</td>\n",
       "    </tr>\n",
       "    <tr>\n",
       "      <th>2005</th>\n",
       "      <td>4BU1214</td>\n",
       "      <td>431383</td>\n",
       "      <td>434012</td>\n",
       "      <td>1</td>\n",
       "      <td>2017-11-30</td>\n",
       "      <td>1510</td>\n",
       "      <td>U</td>\n",
       "      <td>Wet/Damp</td>\n",
       "      <td>Daylight: Street lights present</td>\n",
       "      <td>Snowing without high winds</td>\n",
       "      <td>Pedal cyclePedal cycle</td>\n",
       "      <td>Vehicle or pillion passenger</td>\n",
       "      <td>Slight</td>\n",
       "      <td>Female</td>\n",
       "      <td>55</td>\n",
       "    </tr>\n",
       "    <tr>\n",
       "      <th>2163</th>\n",
       "      <td>4CO0828</td>\n",
       "      <td>443351</td>\n",
       "      <td>438926</td>\n",
       "      <td>2</td>\n",
       "      <td>2017-09-05</td>\n",
       "      <td>1433</td>\n",
       "      <td>A1(M)</td>\n",
       "      <td>Dry</td>\n",
       "      <td>Daylight: Street lights present</td>\n",
       "      <td>Fine without high winds</td>\n",
       "      <td>Car</td>\n",
       "      <td>Driver or rider</td>\n",
       "      <td>Slight</td>\n",
       "      <td>Male</td>\n",
       "      <td>36</td>\n",
       "    </tr>\n",
       "    <tr>\n",
       "      <th>2164</th>\n",
       "      <td>4CO0828</td>\n",
       "      <td>443351</td>\n",
       "      <td>438926</td>\n",
       "      <td>2</td>\n",
       "      <td>2017-09-05</td>\n",
       "      <td>1433</td>\n",
       "      <td>A1(M)</td>\n",
       "      <td>Dry</td>\n",
       "      <td>Daylight: Street lights present</td>\n",
       "      <td>Fine without high winds</td>\n",
       "      <td>Car</td>\n",
       "      <td>Vehicle or pillion passenger</td>\n",
       "      <td>Slight</td>\n",
       "      <td>Female</td>\n",
       "      <td>27</td>\n",
       "    </tr>\n",
       "  </tbody>\n",
       "</table>\n",
       "<p>639 rows × 15 columns</p>\n",
       "</div>"
      ],
      "text/plain": [
       "       RefNum  GridRefEast  GridRefNorth  NumberOfVehicle AccidentDate  Time  \\\n",
       "1279  48C1280       429273        438616                2   2017-09-12  1718   \n",
       "1369  4911338       432049        426272                2   2017-09-01  1727   \n",
       "1370  4911467       435936        426644                1   2017-09-01  1820   \n",
       "1371  4920799       436168        434724                2   2017-09-02  1220   \n",
       "1372  4921305       435718        436940                1   2017-09-02  1630   \n",
       "...       ...          ...           ...              ...          ...   ...   \n",
       "2003  4BU0335       432676        434592                2   2017-11-30  0740   \n",
       "2004  4BU0803       425291        428294                2   2017-11-30  1315   \n",
       "2005  4BU1214       431383        434012                1   2017-11-30  1510   \n",
       "2163  4CO0828       443351        438926                2   2017-09-05  1433   \n",
       "2164  4CO0828       443351        438926                2   2017-09-05  1433   \n",
       "\n",
       "     1stRoadClass RoadSurface                           LightCondition  \\\n",
       "1279        A6120         Dry          Daylight: Street lights present   \n",
       "1369           M1         Dry        Darkness: Street lighting unknown   \n",
       "1370         A642         Dry        Darkness: Street lighting unknown   \n",
       "1371        A6120         Dry          Daylight: Street lights present   \n",
       "1372        A6120         Dry          Daylight: Street lights present   \n",
       "...           ...         ...                                      ...   \n",
       "2003        B6159    Wet/Damp  Darkness: Street lights present and lit   \n",
       "2004         M621         Dry          Daylight: Street lights present   \n",
       "2005            U    Wet/Damp          Daylight: Street lights present   \n",
       "2163        A1(M)         Dry          Daylight: Street lights present   \n",
       "2164        A1(M)         Dry          Daylight: Street lights present   \n",
       "\n",
       "                WeatherCondition  \\\n",
       "1279     Fine without high winds   \n",
       "1369     Fine without high winds   \n",
       "1370     Fine without high winds   \n",
       "1371     Fine without high winds   \n",
       "1372     Fine without high winds   \n",
       "...                          ...   \n",
       "2003     Fine without high winds   \n",
       "2004     Fine without high winds   \n",
       "2005  Snowing without high winds   \n",
       "2163     Fine without high winds   \n",
       "2164     Fine without high winds   \n",
       "\n",
       "                                         TypeVehicle  \\\n",
       "1279                                             Car   \n",
       "1369                                             Car   \n",
       "1370  Motorcycle Motorcycle over 500cc0cc and under0   \n",
       "1371                                             Car   \n",
       "1372                                             Car   \n",
       "...                                              ...   \n",
       "2003                                             Car   \n",
       "2004                                             Car   \n",
       "2005                          Pedal cyclePedal cycle   \n",
       "2163                                             Car   \n",
       "2164                                             Car   \n",
       "\n",
       "                     CasualtyClass CasualtySeverity SexCasualty  AgeCasualty  \n",
       "1279               Driver or rider           Slight      Female           31  \n",
       "1369               Driver or rider           Slight      Female           20  \n",
       "1370                    Pedestrian           Slight        Male           32  \n",
       "1371  Vehicle or pillion passenger           Slight      Female           10  \n",
       "1372                    Pedestrian          Serious        Male           22  \n",
       "...                            ...              ...         ...          ...  \n",
       "2003               Driver or rider           Slight      Female           43  \n",
       "2004               Driver or rider           Slight        Male           25  \n",
       "2005  Vehicle or pillion passenger           Slight      Female           55  \n",
       "2163               Driver or rider           Slight        Male           36  \n",
       "2164  Vehicle or pillion passenger           Slight      Female           27  \n",
       "\n",
       "[639 rows x 15 columns]"
      ]
     },
     "execution_count": 25,
     "metadata": {},
     "output_type": "execute_result"
    }
   ],
   "source": [
    "df_mask_autumn = df.loc[mask_autumn]\n",
    "df_mask_autumn"
   ]
  },
  {
   "cell_type": "code",
   "execution_count": 26,
   "metadata": {},
   "outputs": [
    {
     "data": {
      "text/plain": [
       "RefNum              639\n",
       "GridRefEast         639\n",
       "GridRefNorth        639\n",
       "NumberOfVehicle     639\n",
       "AccidentDate        639\n",
       "Time                639\n",
       "1stRoadClass        639\n",
       "RoadSurface         639\n",
       "LightCondition      639\n",
       "WeatherCondition    639\n",
       "TypeVehicle         639\n",
       "CasualtyClass       639\n",
       "CasualtySeverity    639\n",
       "SexCasualty         639\n",
       "AgeCasualty         639\n",
       "dtype: int64"
      ]
     },
     "execution_count": 26,
     "metadata": {},
     "output_type": "execute_result"
    }
   ],
   "source": [
    "df_mask_autumn.count()"
   ]
  },
  {
   "cell_type": "code",
   "execution_count": 27,
   "metadata": {},
   "outputs": [],
   "source": [
    "winter_start_date = '2017-12-01'\n",
    "winter_end_date = '2017-02-28'"
   ]
  },
  {
   "cell_type": "code",
   "execution_count": 28,
   "metadata": {},
   "outputs": [],
   "source": [
    "mask_winter = (df['AccidentDate'] >= winter_end_date ) & (df['AccidentDate'] <= winter_start_date)"
   ]
  },
  {
   "cell_type": "code",
   "execution_count": 29,
   "metadata": {},
   "outputs": [
    {
     "data": {
      "text/html": [
       "<div>\n",
       "<style scoped>\n",
       "    .dataframe tbody tr th:only-of-type {\n",
       "        vertical-align: middle;\n",
       "    }\n",
       "\n",
       "    .dataframe tbody tr th {\n",
       "        vertical-align: top;\n",
       "    }\n",
       "\n",
       "    .dataframe thead th {\n",
       "        text-align: right;\n",
       "    }\n",
       "</style>\n",
       "<table border=\"1\" class=\"dataframe\">\n",
       "  <thead>\n",
       "    <tr style=\"text-align: right;\">\n",
       "      <th></th>\n",
       "      <th>RefNum</th>\n",
       "      <th>GridRefEast</th>\n",
       "      <th>GridRefNorth</th>\n",
       "      <th>NumberOfVehicle</th>\n",
       "      <th>AccidentDate</th>\n",
       "      <th>Time</th>\n",
       "      <th>1stRoadClass</th>\n",
       "      <th>RoadSurface</th>\n",
       "      <th>LightCondition</th>\n",
       "      <th>WeatherCondition</th>\n",
       "      <th>TypeVehicle</th>\n",
       "      <th>CasualtyClass</th>\n",
       "      <th>CasualtySeverity</th>\n",
       "      <th>SexCasualty</th>\n",
       "      <th>AgeCasualty</th>\n",
       "    </tr>\n",
       "  </thead>\n",
       "  <tbody>\n",
       "    <tr>\n",
       "      <th>0</th>\n",
       "      <td>3AP0313</td>\n",
       "      <td>426340</td>\n",
       "      <td>428455</td>\n",
       "      <td>1</td>\n",
       "      <td>2017-03-17</td>\n",
       "      <td>0815</td>\n",
       "      <td>A643</td>\n",
       "      <td>Dry</td>\n",
       "      <td>Daylight: Street lights present</td>\n",
       "      <td>Other</td>\n",
       "      <td>Car</td>\n",
       "      <td>Pedestrian</td>\n",
       "      <td>Serious</td>\n",
       "      <td>Female</td>\n",
       "      <td>61</td>\n",
       "    </tr>\n",
       "    <tr>\n",
       "      <th>318</th>\n",
       "      <td>42L1122</td>\n",
       "      <td>430063</td>\n",
       "      <td>433752</td>\n",
       "      <td>1</td>\n",
       "      <td>2017-03-05</td>\n",
       "      <td>1629</td>\n",
       "      <td>U</td>\n",
       "      <td>Dry</td>\n",
       "      <td>Daylight: Street lights present</td>\n",
       "      <td>Fine without high winds</td>\n",
       "      <td>Car</td>\n",
       "      <td>Pedestrian</td>\n",
       "      <td>Slight</td>\n",
       "      <td>Female</td>\n",
       "      <td>37</td>\n",
       "    </tr>\n",
       "    <tr>\n",
       "      <th>350</th>\n",
       "      <td>42S0213</td>\n",
       "      <td>431917</td>\n",
       "      <td>428200</td>\n",
       "      <td>2</td>\n",
       "      <td>2017-03-02</td>\n",
       "      <td>0754</td>\n",
       "      <td>M1</td>\n",
       "      <td>Dry</td>\n",
       "      <td>Daylight: Street lights present</td>\n",
       "      <td>Fine without high winds</td>\n",
       "      <td>Motorcycle over 500cc</td>\n",
       "      <td>Driver or rider</td>\n",
       "      <td>Serious</td>\n",
       "      <td>Male</td>\n",
       "      <td>51</td>\n",
       "    </tr>\n",
       "    <tr>\n",
       "      <th>351</th>\n",
       "      <td>42S0227</td>\n",
       "      <td>432866</td>\n",
       "      <td>427586</td>\n",
       "      <td>2</td>\n",
       "      <td>2017-02-28</td>\n",
       "      <td>0800</td>\n",
       "      <td>A654</td>\n",
       "      <td>Dry</td>\n",
       "      <td>Daylight: Street lights present</td>\n",
       "      <td>Fine without high winds</td>\n",
       "      <td>Car</td>\n",
       "      <td>Driver or rider</td>\n",
       "      <td>Slight</td>\n",
       "      <td>Female</td>\n",
       "      <td>35</td>\n",
       "    </tr>\n",
       "    <tr>\n",
       "      <th>352</th>\n",
       "      <td>42S0853</td>\n",
       "      <td>423910</td>\n",
       "      <td>430226</td>\n",
       "      <td>1</td>\n",
       "      <td>2017-02-28</td>\n",
       "      <td>1425</td>\n",
       "      <td>U</td>\n",
       "      <td>Dry</td>\n",
       "      <td>Daylight: Street lights present</td>\n",
       "      <td>Fine without high winds</td>\n",
       "      <td>Pedal cycleCar</td>\n",
       "      <td>Pedestrian</td>\n",
       "      <td>Serious</td>\n",
       "      <td>Male</td>\n",
       "      <td>47</td>\n",
       "    </tr>\n",
       "    <tr>\n",
       "      <th>...</th>\n",
       "      <td>...</td>\n",
       "      <td>...</td>\n",
       "      <td>...</td>\n",
       "      <td>...</td>\n",
       "      <td>...</td>\n",
       "      <td>...</td>\n",
       "      <td>...</td>\n",
       "      <td>...</td>\n",
       "      <td>...</td>\n",
       "      <td>...</td>\n",
       "      <td>...</td>\n",
       "      <td>...</td>\n",
       "      <td>...</td>\n",
       "      <td>...</td>\n",
       "      <td>...</td>\n",
       "    </tr>\n",
       "    <tr>\n",
       "      <th>2025</th>\n",
       "      <td>4C12027</td>\n",
       "      <td>429274</td>\n",
       "      <td>435266</td>\n",
       "      <td>2</td>\n",
       "      <td>2017-12-01</td>\n",
       "      <td>2330</td>\n",
       "      <td>U</td>\n",
       "      <td>Dry</td>\n",
       "      <td>Darkness: Street lighting unknown</td>\n",
       "      <td>Fine without high winds</td>\n",
       "      <td>Car</td>\n",
       "      <td>Vehicle or pillion passenger</td>\n",
       "      <td>Slight</td>\n",
       "      <td>Male</td>\n",
       "      <td>28</td>\n",
       "    </tr>\n",
       "    <tr>\n",
       "      <th>2026</th>\n",
       "      <td>4C12027</td>\n",
       "      <td>429274</td>\n",
       "      <td>435266</td>\n",
       "      <td>2</td>\n",
       "      <td>2017-12-01</td>\n",
       "      <td>2330</td>\n",
       "      <td>U</td>\n",
       "      <td>Dry</td>\n",
       "      <td>Darkness: Street lighting unknown</td>\n",
       "      <td>Fine without high winds</td>\n",
       "      <td>Car</td>\n",
       "      <td>Vehicle or pillion passenger</td>\n",
       "      <td>Slight</td>\n",
       "      <td>Male</td>\n",
       "      <td>25</td>\n",
       "    </tr>\n",
       "    <tr>\n",
       "      <th>2163</th>\n",
       "      <td>4CO0828</td>\n",
       "      <td>443351</td>\n",
       "      <td>438926</td>\n",
       "      <td>2</td>\n",
       "      <td>2017-09-05</td>\n",
       "      <td>1433</td>\n",
       "      <td>A1(M)</td>\n",
       "      <td>Dry</td>\n",
       "      <td>Daylight: Street lights present</td>\n",
       "      <td>Fine without high winds</td>\n",
       "      <td>Car</td>\n",
       "      <td>Driver or rider</td>\n",
       "      <td>Slight</td>\n",
       "      <td>Male</td>\n",
       "      <td>36</td>\n",
       "    </tr>\n",
       "    <tr>\n",
       "      <th>2164</th>\n",
       "      <td>4CO0828</td>\n",
       "      <td>443351</td>\n",
       "      <td>438926</td>\n",
       "      <td>2</td>\n",
       "      <td>2017-09-05</td>\n",
       "      <td>1433</td>\n",
       "      <td>A1(M)</td>\n",
       "      <td>Dry</td>\n",
       "      <td>Daylight: Street lights present</td>\n",
       "      <td>Fine without high winds</td>\n",
       "      <td>Car</td>\n",
       "      <td>Vehicle or pillion passenger</td>\n",
       "      <td>Slight</td>\n",
       "      <td>Female</td>\n",
       "      <td>27</td>\n",
       "    </tr>\n",
       "    <tr>\n",
       "      <th>2202</th>\n",
       "      <td>56R0735</td>\n",
       "      <td>421554</td>\n",
       "      <td>435973</td>\n",
       "      <td>2</td>\n",
       "      <td>2017-06-27</td>\n",
       "      <td>1400</td>\n",
       "      <td>U</td>\n",
       "      <td>Wet/Damp</td>\n",
       "      <td>Daylight: Street lights present</td>\n",
       "      <td>Raining without high winds</td>\n",
       "      <td>Car0</td>\n",
       "      <td>Driver or rider</td>\n",
       "      <td>Slight</td>\n",
       "      <td>Male</td>\n",
       "      <td>27</td>\n",
       "    </tr>\n",
       "  </tbody>\n",
       "</table>\n",
       "<p>1682 rows × 15 columns</p>\n",
       "</div>"
      ],
      "text/plain": [
       "       RefNum  GridRefEast  GridRefNorth  NumberOfVehicle AccidentDate  Time  \\\n",
       "0     3AP0313       426340        428455                1   2017-03-17  0815   \n",
       "318   42L1122       430063        433752                1   2017-03-05  1629   \n",
       "350   42S0213       431917        428200                2   2017-03-02  0754   \n",
       "351   42S0227       432866        427586                2   2017-02-28  0800   \n",
       "352   42S0853       423910        430226                1   2017-02-28  1425   \n",
       "...       ...          ...           ...              ...          ...   ...   \n",
       "2025  4C12027       429274        435266                2   2017-12-01  2330   \n",
       "2026  4C12027       429274        435266                2   2017-12-01  2330   \n",
       "2163  4CO0828       443351        438926                2   2017-09-05  1433   \n",
       "2164  4CO0828       443351        438926                2   2017-09-05  1433   \n",
       "2202  56R0735       421554        435973                2   2017-06-27  1400   \n",
       "\n",
       "     1stRoadClass RoadSurface                     LightCondition  \\\n",
       "0            A643         Dry    Daylight: Street lights present   \n",
       "318             U         Dry    Daylight: Street lights present   \n",
       "350            M1         Dry    Daylight: Street lights present   \n",
       "351          A654         Dry    Daylight: Street lights present   \n",
       "352             U         Dry    Daylight: Street lights present   \n",
       "...           ...         ...                                ...   \n",
       "2025            U         Dry  Darkness: Street lighting unknown   \n",
       "2026            U         Dry  Darkness: Street lighting unknown   \n",
       "2163        A1(M)         Dry    Daylight: Street lights present   \n",
       "2164        A1(M)         Dry    Daylight: Street lights present   \n",
       "2202            U    Wet/Damp    Daylight: Street lights present   \n",
       "\n",
       "                WeatherCondition            TypeVehicle  \\\n",
       "0                          Other                    Car   \n",
       "318      Fine without high winds                    Car   \n",
       "350      Fine without high winds  Motorcycle over 500cc   \n",
       "351      Fine without high winds                    Car   \n",
       "352      Fine without high winds         Pedal cycleCar   \n",
       "...                          ...                    ...   \n",
       "2025     Fine without high winds                    Car   \n",
       "2026     Fine without high winds                    Car   \n",
       "2163     Fine without high winds                    Car   \n",
       "2164     Fine without high winds                    Car   \n",
       "2202  Raining without high winds                   Car0   \n",
       "\n",
       "                     CasualtyClass CasualtySeverity SexCasualty  AgeCasualty  \n",
       "0                       Pedestrian          Serious      Female           61  \n",
       "318                     Pedestrian           Slight      Female           37  \n",
       "350                Driver or rider          Serious        Male           51  \n",
       "351                Driver or rider           Slight      Female           35  \n",
       "352                     Pedestrian          Serious        Male           47  \n",
       "...                            ...              ...         ...          ...  \n",
       "2025  Vehicle or pillion passenger           Slight        Male           28  \n",
       "2026  Vehicle or pillion passenger           Slight        Male           25  \n",
       "2163               Driver or rider           Slight        Male           36  \n",
       "2164  Vehicle or pillion passenger           Slight      Female           27  \n",
       "2202               Driver or rider           Slight        Male           27  \n",
       "\n",
       "[1682 rows x 15 columns]"
      ]
     },
     "execution_count": 29,
     "metadata": {},
     "output_type": "execute_result"
    }
   ],
   "source": [
    "df_mask_winter = df.loc[mask_winter]\n",
    "df_mask_winter"
   ]
  },
  {
   "cell_type": "code",
   "execution_count": 30,
   "metadata": {
    "scrolled": true
   },
   "outputs": [
    {
     "data": {
      "text/plain": [
       "RefNum              1682\n",
       "GridRefEast         1682\n",
       "GridRefNorth        1682\n",
       "NumberOfVehicle     1682\n",
       "AccidentDate        1682\n",
       "Time                1682\n",
       "1stRoadClass        1682\n",
       "RoadSurface         1682\n",
       "LightCondition      1682\n",
       "WeatherCondition    1682\n",
       "TypeVehicle         1682\n",
       "CasualtyClass       1682\n",
       "CasualtySeverity    1682\n",
       "SexCasualty         1682\n",
       "AgeCasualty         1682\n",
       "dtype: int64"
      ]
     },
     "execution_count": 30,
     "metadata": {},
     "output_type": "execute_result"
    }
   ],
   "source": [
    "df_mask_winter.count()"
   ]
  },
  {
   "cell_type": "code",
   "execution_count": 31,
   "metadata": {},
   "outputs": [],
   "source": [
    "import matplotlib.pyplot as plt"
   ]
  },
  {
   "cell_type": "code",
   "execution_count": 32,
   "metadata": {},
   "outputs": [],
   "source": [
    "labels = 'Winter', 'Summer', 'Spring', 'Autumn'\n",
    "sizes = [1682, 508, 509, 639]\n",
    "colors = ['gold', 'yellowgreen', 'lightcoral', 'lightskyblue']\n",
    "explode = (0.1, 0, 0, 0)  # explode 1st slice"
   ]
  },
  {
   "cell_type": "code",
   "execution_count": 33,
   "metadata": {
    "scrolled": true
   },
   "outputs": [
    {
     "data": {
      "image/png": "[encoded data removed]",
      "text/plain": [
       "<Figure size 432x432 with 1 Axes>"
      ]
     },
     "metadata": {},
     "output_type": "display_data"
    }
   ],
   "source": [
    "fig, ax = plt.subplots(figsize=(6,6))\n",
    "plt.pie(sizes, explode=explode, labels=labels, colors=colors,\n",
    "autopct='%1.1f%%', shadow=True, startangle=140)\n",
    "plt.axis('equal')\n",
    "plt.show()"
   ]
  },
  {
   "cell_type": "markdown",
   "metadata": {},
   "source": [
    "## Question 3: What are accidents ocur during the hours of the day ?\n",
    "#### I'm using groupby() method to group the Time column and then size() method to look the divisions."
   ]
  },
  {
   "cell_type": "code",
   "execution_count": 34,
   "metadata": {},
   "outputs": [],
   "source": [
    "group_by_time = df.groupby(['Time'])"
   ]
  },
  {
   "cell_type": "code",
   "execution_count": 35,
   "metadata": {
    "scrolled": true
   },
   "outputs": [
    {
     "data": {
      "text/plain": [
       "<pandas.core.groupby.generic.DataFrameGroupBy object at 0x0000020E8AA9CA08>"
      ]
     },
     "execution_count": 35,
     "metadata": {},
     "output_type": "execute_result"
    }
   ],
   "source": [
    "group_by_time"
   ]
  },
  {
   "cell_type": "code",
   "execution_count": 36,
   "metadata": {},
   "outputs": [
    {
     "data": {
      "text/plain": [
       "Time\n",
       "0004    1\n",
       "0005    2\n",
       "0006    1\n",
       "0009    2\n",
       "0010    1\n",
       "       ..\n",
       "2343    1\n",
       "2345    7\n",
       "2350    1\n",
       "2352    1\n",
       "2356    1\n",
       "Length: 633, dtype: int64"
      ]
     },
     "execution_count": 36,
     "metadata": {},
     "output_type": "execute_result"
    }
   ],
   "source": [
    "group_by_time.size()"
   ]
  },
  {
   "cell_type": "code",
   "execution_count": 37,
   "metadata": {},
   "outputs": [],
   "source": [
    "#needed libraries\n",
    "%matplotlib inline\n",
    "import matplotlib.pyplot as plt"
   ]
  },
  {
   "cell_type": "code",
   "execution_count": 38,
   "metadata": {},
   "outputs": [],
   "source": [
    "time_totals = group_by_time.size()"
   ]
  },
  {
   "cell_type": "markdown",
   "metadata": {},
   "source": [
    "#### The plot graph of distrubition of time to number of accidents."
   ]
  },
  {
   "cell_type": "code",
   "execution_count": 39,
   "metadata": {},
   "outputs": [
    {
     "data": {
      "image/png": "[encoded data removed]",
      "text/plain": [
       "<Figure size 576x576 with 1 Axes>"
      ]
     },
     "metadata": {
      "needs_background": "light"
     },
     "output_type": "display_data"
    }
   ],
   "source": [
    "f,ax = plt.subplots(figsize=(8,8))\n",
    "my_plot = time_totals.plot(kind='line')"
   ]
  },
  {
   "cell_type": "markdown",
   "metadata": {},
   "source": [
    "## Question 4:  Are all the causes responsible for death?"
   ]
  },
  {
   "cell_type": "code",
   "execution_count": 40,
   "metadata": {},
   "outputs": [
    {
     "data": {
      "text/plain": [
       "Slight     1879\n",
       "Serious     309\n",
       "Fatal        15\n",
       "Name: CasualtySeverity, dtype: int64"
      ]
     },
     "execution_count": 40,
     "metadata": {},
     "output_type": "execute_result"
    }
   ],
   "source": [
    "df['CasualtySeverity'].value_counts()"
   ]
  },
  {
   "cell_type": "code",
   "execution_count": 41,
   "metadata": {},
   "outputs": [
    {
     "data": {
      "image/png": "[encoded data removed]",
      "text/plain": [
       "<Figure size 576x576 with 1 Axes>"
      ]
     },
     "metadata": {
      "needs_background": "light"
     },
     "output_type": "display_data"
    }
   ],
   "source": [
    "f,ax = plt.subplots(figsize=(8,8))\n",
    "ASC = df.groupby(['CasualtySeverity']).sum()['NumberOfVehicle'].to_frame().plot(kind='bar',ax=ax, color='b')\n",
    "ax.title.set_text('Number of casualt vehicles grouped by Accident Severity')"
   ]
  },
  {
   "cell_type": "markdown",
   "metadata": {},
   "source": [
    "Result: The answer is No! The accidents are mosly slightly."
   ]
  },
  {
   "cell_type": "markdown",
   "metadata": {},
   "source": [
    "## Question 5: On the second week of the Fall semester, a school trip will be organized for primary school students who are between 7 and 11. Students will go and come back with car or bus. What are conditions?"
   ]
  },
  {
   "cell_type": "markdown",
   "metadata": {},
   "source": [
    "#### I am creating a new data set called schooltrip as using existing data set called df. The new data set will contain Accident Date, Type of vehicle and Age of Casualty information."
   ]
  },
  {
   "cell_type": "code",
   "execution_count": 42,
   "metadata": {},
   "outputs": [],
   "source": [
    "schooltrip = df[['AccidentDate', 'TypeVehicle', 'AgeCasualty']]"
   ]
  },
  {
   "cell_type": "code",
   "execution_count": 43,
   "metadata": {},
   "outputs": [
    {
     "data": {
      "text/html": [
       "<div>\n",
       "<style scoped>\n",
       "    .dataframe tbody tr th:only-of-type {\n",
       "        vertical-align: middle;\n",
       "    }\n",
       "\n",
       "    .dataframe tbody tr th {\n",
       "        vertical-align: top;\n",
       "    }\n",
       "\n",
       "    .dataframe thead th {\n",
       "        text-align: right;\n",
       "    }\n",
       "</style>\n",
       "<table border=\"1\" class=\"dataframe\">\n",
       "  <thead>\n",
       "    <tr style=\"text-align: right;\">\n",
       "      <th></th>\n",
       "      <th>AccidentDate</th>\n",
       "      <th>TypeVehicle</th>\n",
       "      <th>AgeCasualty</th>\n",
       "    </tr>\n",
       "  </thead>\n",
       "  <tbody>\n",
       "    <tr>\n",
       "      <th>0</th>\n",
       "      <td>2017-03-17</td>\n",
       "      <td>Car</td>\n",
       "      <td>61</td>\n",
       "    </tr>\n",
       "    <tr>\n",
       "      <th>1</th>\n",
       "      <td>2017-01-14</td>\n",
       "      <td>Pedal cycle</td>\n",
       "      <td>36</td>\n",
       "    </tr>\n",
       "    <tr>\n",
       "      <th>2</th>\n",
       "      <td>2017-01-01</td>\n",
       "      <td>Car</td>\n",
       "      <td>32</td>\n",
       "    </tr>\n",
       "    <tr>\n",
       "      <th>3</th>\n",
       "      <td>2017-01-01</td>\n",
       "      <td>Car</td>\n",
       "      <td>30</td>\n",
       "    </tr>\n",
       "    <tr>\n",
       "      <th>4</th>\n",
       "      <td>2017-01-01</td>\n",
       "      <td>Car</td>\n",
       "      <td>26</td>\n",
       "    </tr>\n",
       "  </tbody>\n",
       "</table>\n",
       "</div>"
      ],
      "text/plain": [
       "  AccidentDate  TypeVehicle  AgeCasualty\n",
       "0   2017-03-17          Car           61\n",
       "1   2017-01-14  Pedal cycle           36\n",
       "2   2017-01-01          Car           32\n",
       "3   2017-01-01          Car           30\n",
       "4   2017-01-01          Car           26"
      ]
     },
     "execution_count": 43,
     "metadata": {},
     "output_type": "execute_result"
    }
   ],
   "source": [
    "schooltrip.head()"
   ]
  },
  {
   "cell_type": "code",
   "execution_count": 44,
   "metadata": {},
   "outputs": [],
   "source": [
    "trip_group=df.groupby(['AccidentDate','TypeVehicle', 'AgeCasualty']).size()"
   ]
  },
  {
   "cell_type": "code",
   "execution_count": 45,
   "metadata": {
    "scrolled": true
   },
   "outputs": [
    {
     "data": {
      "text/plain": [
       "AccidentDate  TypeVehicle                                                        AgeCasualty\n",
       "2017-01-01    Car                                                                26             1\n",
       "                                                                                 30             1\n",
       "                                                                                 32             1\n",
       "                                                                                 34             1\n",
       "2017-01-02    Car                                                                17             1\n",
       "                                                                                               ..\n",
       "2017-12-30    Pedal cyclePedal cycle                                             65             1\n",
       "2017-12-31    Car                                                                19             1\n",
       "                                                                                 20             1\n",
       "                                                                                 21             2\n",
       "              Motorcycle 12Motorcycle over 500cccc to Motorcycle over 500cc00cc  23             1\n",
       "Length: 2094, dtype: int64"
      ]
     },
     "execution_count": 45,
     "metadata": {},
     "output_type": "execute_result"
    }
   ],
   "source": [
    "trip_group"
   ]
  },
  {
   "cell_type": "markdown",
   "metadata": {},
   "source": [
    "#### The trip will be held on the second week of fall semester."
   ]
  },
  {
   "cell_type": "markdown",
   "metadata": {},
   "source": [
    "#### Condition 1: The trip will be held on the second week of fall semester."
   ]
  },
  {
   "cell_type": "code",
   "execution_count": 46,
   "metadata": {},
   "outputs": [],
   "source": [
    "trip_start_date = \"2017-09-14\"\n",
    "trip_end_date = \"2017-10-01\""
   ]
  },
  {
   "cell_type": "code",
   "execution_count": 47,
   "metadata": {},
   "outputs": [],
   "source": [
    "mask_trip_date = (schooltrip['AccidentDate'] >= trip_start_date ) & (schooltrip['AccidentDate'] <= trip_end_date)"
   ]
  },
  {
   "cell_type": "code",
   "execution_count": 48,
   "metadata": {},
   "outputs": [
    {
     "data": {
      "text/html": [
       "<div>\n",
       "<style scoped>\n",
       "    .dataframe tbody tr th:only-of-type {\n",
       "        vertical-align: middle;\n",
       "    }\n",
       "\n",
       "    .dataframe tbody tr th {\n",
       "        vertical-align: top;\n",
       "    }\n",
       "\n",
       "    .dataframe thead th {\n",
       "        text-align: right;\n",
       "    }\n",
       "</style>\n",
       "<table border=\"1\" class=\"dataframe\">\n",
       "  <thead>\n",
       "    <tr style=\"text-align: right;\">\n",
       "      <th></th>\n",
       "      <th>AccidentDate</th>\n",
       "      <th>TypeVehicle</th>\n",
       "      <th>AgeCasualty</th>\n",
       "    </tr>\n",
       "  </thead>\n",
       "  <tbody>\n",
       "    <tr>\n",
       "      <th>1444</th>\n",
       "      <td>2017-09-14</td>\n",
       "      <td>Motorcycle Motorcycle over 500cc0cc and underP...</td>\n",
       "      <td>36</td>\n",
       "    </tr>\n",
       "    <tr>\n",
       "      <th>1445</th>\n",
       "      <td>2017-09-14</td>\n",
       "      <td>Car</td>\n",
       "      <td>32</td>\n",
       "    </tr>\n",
       "    <tr>\n",
       "      <th>1446</th>\n",
       "      <td>2017-09-14</td>\n",
       "      <td>Car</td>\n",
       "      <td>27</td>\n",
       "    </tr>\n",
       "    <tr>\n",
       "      <th>1447</th>\n",
       "      <td>2017-09-15</td>\n",
       "      <td>Car</td>\n",
       "      <td>37</td>\n",
       "    </tr>\n",
       "    <tr>\n",
       "      <th>1448</th>\n",
       "      <td>2017-09-15</td>\n",
       "      <td>Car</td>\n",
       "      <td>50</td>\n",
       "    </tr>\n",
       "    <tr>\n",
       "      <th>...</th>\n",
       "      <td>...</td>\n",
       "      <td>...</td>\n",
       "      <td>...</td>\n",
       "    </tr>\n",
       "    <tr>\n",
       "      <th>1553</th>\n",
       "      <td>2017-10-01</td>\n",
       "      <td>Car</td>\n",
       "      <td>61</td>\n",
       "    </tr>\n",
       "    <tr>\n",
       "      <th>1554</th>\n",
       "      <td>2017-10-01</td>\n",
       "      <td>Car</td>\n",
       "      <td>23</td>\n",
       "    </tr>\n",
       "    <tr>\n",
       "      <th>1558</th>\n",
       "      <td>2017-10-01</td>\n",
       "      <td>Pedal cycleCar</td>\n",
       "      <td>88</td>\n",
       "    </tr>\n",
       "    <tr>\n",
       "      <th>1559</th>\n",
       "      <td>2017-10-01</td>\n",
       "      <td>Car</td>\n",
       "      <td>58</td>\n",
       "    </tr>\n",
       "    <tr>\n",
       "      <th>1560</th>\n",
       "      <td>2017-10-01</td>\n",
       "      <td>Car</td>\n",
       "      <td>14</td>\n",
       "    </tr>\n",
       "  </tbody>\n",
       "</table>\n",
       "<p>114 rows × 3 columns</p>\n",
       "</div>"
      ],
      "text/plain": [
       "     AccidentDate                                        TypeVehicle  \\\n",
       "1444   2017-09-14  Motorcycle Motorcycle over 500cc0cc and underP...   \n",
       "1445   2017-09-14                                                Car   \n",
       "1446   2017-09-14                                                Car   \n",
       "1447   2017-09-15                                                Car   \n",
       "1448   2017-09-15                                                Car   \n",
       "...           ...                                                ...   \n",
       "1553   2017-10-01                                                Car   \n",
       "1554   2017-10-01                                                Car   \n",
       "1558   2017-10-01                                     Pedal cycleCar   \n",
       "1559   2017-10-01                                                Car   \n",
       "1560   2017-10-01                                                Car   \n",
       "\n",
       "      AgeCasualty  \n",
       "1444           36  \n",
       "1445           32  \n",
       "1446           27  \n",
       "1447           37  \n",
       "1448           50  \n",
       "...           ...  \n",
       "1553           61  \n",
       "1554           23  \n",
       "1558           88  \n",
       "1559           58  \n",
       "1560           14  \n",
       "\n",
       "[114 rows x 3 columns]"
      ]
     },
     "execution_count": 48,
     "metadata": {},
     "output_type": "execute_result"
    }
   ],
   "source": [
    "df_schooltrip_date = schooltrip.loc[mask_trip_date]\n",
    "df_schooltrip_date"
   ]
  },
  {
   "cell_type": "markdown",
   "metadata": {},
   "source": [
    "#### Condition 2: The passangers will be between 7 and 11."
   ]
  },
  {
   "cell_type": "code",
   "execution_count": 49,
   "metadata": {},
   "outputs": [],
   "source": [
    "school_age_start = 7\n",
    "school_age_finish = 11"
   ]
  },
  {
   "cell_type": "code",
   "execution_count": 50,
   "metadata": {},
   "outputs": [],
   "source": [
    "mask_trip_age = (df_schooltrip_date['AgeCasualty'] >= school_age_start ) & (df_schooltrip_date['AgeCasualty'] <= school_age_finish)"
   ]
  },
  {
   "cell_type": "code",
   "execution_count": 51,
   "metadata": {},
   "outputs": [],
   "source": [
    "df_schooltrip_age = df_schooltrip_date.loc[mask_trip_age]"
   ]
  },
  {
   "cell_type": "code",
   "execution_count": 52,
   "metadata": {},
   "outputs": [
    {
     "data": {
      "text/html": [
       "<div>\n",
       "<style scoped>\n",
       "    .dataframe tbody tr th:only-of-type {\n",
       "        vertical-align: middle;\n",
       "    }\n",
       "\n",
       "    .dataframe tbody tr th {\n",
       "        vertical-align: top;\n",
       "    }\n",
       "\n",
       "    .dataframe thead th {\n",
       "        text-align: right;\n",
       "    }\n",
       "</style>\n",
       "<table border=\"1\" class=\"dataframe\">\n",
       "  <thead>\n",
       "    <tr style=\"text-align: right;\">\n",
       "      <th></th>\n",
       "      <th>AccidentDate</th>\n",
       "      <th>TypeVehicle</th>\n",
       "      <th>AgeCasualty</th>\n",
       "    </tr>\n",
       "  </thead>\n",
       "  <tbody>\n",
       "    <tr>\n",
       "      <th>1523</th>\n",
       "      <td>2017-09-26</td>\n",
       "      <td>Car</td>\n",
       "      <td>11</td>\n",
       "    </tr>\n",
       "    <tr>\n",
       "      <th>1541</th>\n",
       "      <td>2017-09-29</td>\n",
       "      <td>Pedal cycle</td>\n",
       "      <td>11</td>\n",
       "    </tr>\n",
       "  </tbody>\n",
       "</table>\n",
       "</div>"
      ],
      "text/plain": [
       "     AccidentDate  TypeVehicle  AgeCasualty\n",
       "1523   2017-09-26          Car           11\n",
       "1541   2017-09-29  Pedal cycle           11"
      ]
     },
     "execution_count": 52,
     "metadata": {},
     "output_type": "execute_result"
    }
   ],
   "source": [
    "df_schooltrip_age"
   ]
  },
  {
   "cell_type": "markdown",
   "metadata": {},
   "source": [
    "#### Condition 3: The vehicle will be a car or a bus."
   ]
  },
  {
   "cell_type": "code",
   "execution_count": 53,
   "metadata": {},
   "outputs": [],
   "source": [
    "school_car = 'Car'"
   ]
  },
  {
   "cell_type": "code",
   "execution_count": 54,
   "metadata": {},
   "outputs": [],
   "source": [
    "mask_trip_car = (df_schooltrip_age['TypeVehicle'] == school_car )"
   ]
  },
  {
   "cell_type": "code",
   "execution_count": 55,
   "metadata": {},
   "outputs": [],
   "source": [
    "df_schooltrip_car = df_schooltrip_age.loc[mask_trip_car]"
   ]
  },
  {
   "cell_type": "code",
   "execution_count": 56,
   "metadata": {},
   "outputs": [
    {
     "data": {
      "text/html": [
       "<div>\n",
       "<style scoped>\n",
       "    .dataframe tbody tr th:only-of-type {\n",
       "        vertical-align: middle;\n",
       "    }\n",
       "\n",
       "    .dataframe tbody tr th {\n",
       "        vertical-align: top;\n",
       "    }\n",
       "\n",
       "    .dataframe thead th {\n",
       "        text-align: right;\n",
       "    }\n",
       "</style>\n",
       "<table border=\"1\" class=\"dataframe\">\n",
       "  <thead>\n",
       "    <tr style=\"text-align: right;\">\n",
       "      <th></th>\n",
       "      <th>AccidentDate</th>\n",
       "      <th>TypeVehicle</th>\n",
       "      <th>AgeCasualty</th>\n",
       "    </tr>\n",
       "  </thead>\n",
       "  <tbody>\n",
       "    <tr>\n",
       "      <th>1523</th>\n",
       "      <td>2017-09-26</td>\n",
       "      <td>Car</td>\n",
       "      <td>11</td>\n",
       "    </tr>\n",
       "  </tbody>\n",
       "</table>\n",
       "</div>"
      ],
      "text/plain": [
       "     AccidentDate TypeVehicle  AgeCasualty\n",
       "1523   2017-09-26         Car           11"
      ]
     },
     "execution_count": 56,
     "metadata": {},
     "output_type": "execute_result"
    }
   ],
   "source": [
    "df_schooltrip_car"
   ]
  },
  {
   "cell_type": "code",
   "execution_count": 57,
   "metadata": {},
   "outputs": [
    {
     "data": {
      "text/plain": [
       "AccidentDate    1\n",
       "TypeVehicle     1\n",
       "AgeCasualty     1\n",
       "dtype: int64"
      ]
     },
     "execution_count": 57,
     "metadata": {},
     "output_type": "execute_result"
    }
   ],
   "source": [
    "df_schooltrip_car.count()"
   ]
  },
  {
   "cell_type": "markdown",
   "metadata": {},
   "source": [
    "## Question 6: On the second week of the Fall semester, a school trip will be organized for primary school students who are between 7 and 11. Students will go and come back with car or bus. What is the  possibility of an accident occured?"
   ]
  },
  {
   "cell_type": "markdown",
   "metadata": {},
   "source": [
    "#### There are 2203 accidents in total and according to the latest filtered data df_schooltrip_car.count(), there is only one accident that conforms all conditions. In order to show percentage information, one of the best way is using pie/donut chart for the data: 2203, 1."
   ]
  },
  {
   "cell_type": "code",
   "execution_count": 58,
   "metadata": {},
   "outputs": [
    {
     "data": {
      "image/png": "[encoded data removed]",
      "text/plain": [
       "<Figure size 576x576 with 1 Axes>"
      ]
     },
     "metadata": {},
     "output_type": "display_data"
    }
   ],
   "source": [
    "labels = ['All Accidents', 'School Trip']\n",
    "sizes = [len(df), len(df_schooltrip_car)]\n",
    "\n",
    "\n",
    "fig, ax = plt.subplots(figsize=(8,8))\n",
    "ax.pie(sizes, labels=labels, autopct='%1.1f%%')\n",
    "ax.axis('equal')  # Equal aspect ratio ensures the pie chart is circular.\n",
    "ax.set_title('A Possibility of a School Trip Accident Who is between 7 - 11 and travels with a car on between Sep 14, 2017 and Oct 1, 2017')\n",
    "\n",
    "\n",
    "plt.show()"
   ]
  },
  {
   "cell_type": "markdown",
   "metadata": {},
   "source": [
    "The result is less than 1% and equal to 0.04539264639128461%"
   ]
  },
  {
   "cell_type": "markdown",
   "metadata": {},
   "source": [
    "## Question 7: Road maintenance work will be carried out on all motorways except for A for one week. What is possibility of an accident occurred?"
   ]
  },
  {
   "cell_type": "code",
   "execution_count": 59,
   "metadata": {},
   "outputs": [],
   "source": [
    "openedroadclass = df[['1stRoadClass']]  "
   ]
  },
  {
   "cell_type": "code",
   "execution_count": 60,
   "metadata": {},
   "outputs": [
    {
     "data": {
      "text/html": [
       "<div>\n",
       "<style scoped>\n",
       "    .dataframe tbody tr th:only-of-type {\n",
       "        vertical-align: middle;\n",
       "    }\n",
       "\n",
       "    .dataframe tbody tr th {\n",
       "        vertical-align: top;\n",
       "    }\n",
       "\n",
       "    .dataframe thead th {\n",
       "        text-align: right;\n",
       "    }\n",
       "</style>\n",
       "<table border=\"1\" class=\"dataframe\">\n",
       "  <thead>\n",
       "    <tr style=\"text-align: right;\">\n",
       "      <th></th>\n",
       "      <th>1stRoadClass</th>\n",
       "    </tr>\n",
       "  </thead>\n",
       "  <tbody>\n",
       "    <tr>\n",
       "      <th>0</th>\n",
       "      <td>A643</td>\n",
       "    </tr>\n",
       "    <tr>\n",
       "      <th>1</th>\n",
       "      <td>A61</td>\n",
       "    </tr>\n",
       "    <tr>\n",
       "      <th>2</th>\n",
       "      <td>A653</td>\n",
       "    </tr>\n",
       "    <tr>\n",
       "      <th>3</th>\n",
       "      <td>A653</td>\n",
       "    </tr>\n",
       "    <tr>\n",
       "      <th>4</th>\n",
       "      <td>U</td>\n",
       "    </tr>\n",
       "  </tbody>\n",
       "</table>\n",
       "</div>"
      ],
      "text/plain": [
       "  1stRoadClass\n",
       "0         A643\n",
       "1          A61\n",
       "2         A653\n",
       "3         A653\n",
       "4            U"
      ]
     },
     "execution_count": 60,
     "metadata": {},
     "output_type": "execute_result"
    }
   ],
   "source": [
    "openedroadclass.head()"
   ]
  },
  {
   "cell_type": "code",
   "execution_count": 61,
   "metadata": {},
   "outputs": [],
   "source": [
    "A643 = 'A643'\n",
    "A61 = 'A61'\n",
    "A653 = 'A653'\n",
    "A6038 = 'A6038'\n",
    "A659 = 'A659'\n",
    "A642 = 'A642'\n",
    "A656 =  'A656'\n",
    "A62 = 'A62'\n",
    "A64 = 'A64'\n",
    "A6120 ='A6120'\n",
    "A6110 = 'A6110'\n",
    "A6210 = 'A6210'\n",
    "A168 = 'A168'\n",
    "A654 ='A654'\n",
    "A63 = 'A63'\n",
    "A639 = 'A639'\n",
    "A657 = 'A657'\n",
    "A647 = 'A647'\n",
    "A658 = 'A658'\n",
    "A660 = 'A660'\n",
    "A65 = 'A65'\n",
    "A58 = 'A58'\n",
    "A650 = 'A650'"
   ]
  },
  {
   "cell_type": "code",
   "execution_count": 62,
   "metadata": {},
   "outputs": [],
   "source": [
    "mask_openedroad =  (openedroadclass['1stRoadClass'] == A643 ) | (openedroadclass['1stRoadClass'] == A61) | (openedroadclass['1stRoadClass'] == A653) | (openedroadclass['1stRoadClass'] == A6038) | (openedroadclass['1stRoadClass'] == A659) | (openedroadclass['1stRoadClass'] == A642) | (openedroadclass['1stRoadClass'] == A656) | (openedroadclass['1stRoadClass'] == A62) | (openedroadclass['1stRoadClass'] == A64) | (openedroadclass['1stRoadClass'] == A6120) | (openedroadclass['1stRoadClass'] == A6110) | (openedroadclass['1stRoadClass'] == A6210) | (openedroadclass['1stRoadClass'] == A168) | (openedroadclass['1stRoadClass'] == A654) | (openedroadclass['1stRoadClass'] == A63) | (openedroadclass['1stRoadClass'] == A639) | (openedroadclass['1stRoadClass'] == A657) | (openedroadclass['1stRoadClass'] == A647) | (openedroadclass['1stRoadClass'] == A658) | (openedroadclass['1stRoadClass'] == A660) | (openedroadclass['1stRoadClass'] == A65) | (openedroadclass['1stRoadClass'] == A58) | (openedroadclass['1stRoadClass'] == A650)"
   ]
  },
  {
   "cell_type": "code",
   "execution_count": 63,
   "metadata": {},
   "outputs": [],
   "source": [
    "df_openedroad = openedroadclass.loc[mask_openedroad]"
   ]
  },
  {
   "cell_type": "code",
   "execution_count": 64,
   "metadata": {},
   "outputs": [
    {
     "data": {
      "text/html": [
       "<div>\n",
       "<style scoped>\n",
       "    .dataframe tbody tr th:only-of-type {\n",
       "        vertical-align: middle;\n",
       "    }\n",
       "\n",
       "    .dataframe tbody tr th {\n",
       "        vertical-align: top;\n",
       "    }\n",
       "\n",
       "    .dataframe thead th {\n",
       "        text-align: right;\n",
       "    }\n",
       "</style>\n",
       "<table border=\"1\" class=\"dataframe\">\n",
       "  <thead>\n",
       "    <tr style=\"text-align: right;\">\n",
       "      <th></th>\n",
       "      <th>1stRoadClass</th>\n",
       "    </tr>\n",
       "  </thead>\n",
       "  <tbody>\n",
       "    <tr>\n",
       "      <th>0</th>\n",
       "      <td>A643</td>\n",
       "    </tr>\n",
       "    <tr>\n",
       "      <th>1</th>\n",
       "      <td>A61</td>\n",
       "    </tr>\n",
       "    <tr>\n",
       "      <th>2</th>\n",
       "      <td>A653</td>\n",
       "    </tr>\n",
       "    <tr>\n",
       "      <th>3</th>\n",
       "      <td>A653</td>\n",
       "    </tr>\n",
       "    <tr>\n",
       "      <th>14</th>\n",
       "      <td>A650</td>\n",
       "    </tr>\n",
       "    <tr>\n",
       "      <th>...</th>\n",
       "      <td>...</td>\n",
       "    </tr>\n",
       "    <tr>\n",
       "      <th>2182</th>\n",
       "      <td>A6120</td>\n",
       "    </tr>\n",
       "    <tr>\n",
       "      <th>2187</th>\n",
       "      <td>A6120</td>\n",
       "    </tr>\n",
       "    <tr>\n",
       "      <th>2188</th>\n",
       "      <td>A639</td>\n",
       "    </tr>\n",
       "    <tr>\n",
       "      <th>2189</th>\n",
       "      <td>A639</td>\n",
       "    </tr>\n",
       "    <tr>\n",
       "      <th>2190</th>\n",
       "      <td>A639</td>\n",
       "    </tr>\n",
       "  </tbody>\n",
       "</table>\n",
       "<p>728 rows × 1 columns</p>\n",
       "</div>"
      ],
      "text/plain": [
       "     1stRoadClass\n",
       "0            A643\n",
       "1             A61\n",
       "2            A653\n",
       "3            A653\n",
       "14           A650\n",
       "...           ...\n",
       "2182        A6120\n",
       "2187        A6120\n",
       "2188         A639\n",
       "2189         A639\n",
       "2190         A639\n",
       "\n",
       "[728 rows x 1 columns]"
      ]
     },
     "execution_count": 64,
     "metadata": {},
     "output_type": "execute_result"
    }
   ],
   "source": [
    "df_openedroad"
   ]
  },
  {
   "cell_type": "code",
   "execution_count": 65,
   "metadata": {},
   "outputs": [
    {
     "data": {
      "image/png": "[encoded data removed]",
      "text/plain": [
       "<Figure size 576x576 with 1 Axes>"
      ]
     },
     "metadata": {
      "needs_background": "light"
     },
     "output_type": "display_data"
    }
   ],
   "source": [
    "fig, ax = plt.subplots(figsize=(8,8))\n",
    "sns.countplot(y=\"1stRoadClass\", data=df_openedroad, palette=\"Greens_d\").set_title('Opened A Road Classes');"
   ]
  },
  {
   "cell_type": "markdown",
   "metadata": {},
   "source": [
    "## Question 8 :  Students who is age of 23- 24 are leaving from the graduation party on a rainy day at midnight at 3 o'clock. What is possibility of an accident occurred?"
   ]
  },
  {
   "cell_type": "code",
   "execution_count": 66,
   "metadata": {},
   "outputs": [],
   "source": [
    "gradparty = df[['AccidentDate', 'RoadSurface', 'AgeCasualty','Time']]"
   ]
  },
  {
   "cell_type": "code",
   "execution_count": 67,
   "metadata": {},
   "outputs": [
    {
     "data": {
      "text/html": [
       "<div>\n",
       "<style scoped>\n",
       "    .dataframe tbody tr th:only-of-type {\n",
       "        vertical-align: middle;\n",
       "    }\n",
       "\n",
       "    .dataframe tbody tr th {\n",
       "        vertical-align: top;\n",
       "    }\n",
       "\n",
       "    .dataframe thead th {\n",
       "        text-align: right;\n",
       "    }\n",
       "</style>\n",
       "<table border=\"1\" class=\"dataframe\">\n",
       "  <thead>\n",
       "    <tr style=\"text-align: right;\">\n",
       "      <th></th>\n",
       "      <th>AccidentDate</th>\n",
       "      <th>RoadSurface</th>\n",
       "      <th>AgeCasualty</th>\n",
       "      <th>Time</th>\n",
       "    </tr>\n",
       "  </thead>\n",
       "  <tbody>\n",
       "    <tr>\n",
       "      <th>0</th>\n",
       "      <td>2017-03-17</td>\n",
       "      <td>Dry</td>\n",
       "      <td>61</td>\n",
       "      <td>0815</td>\n",
       "    </tr>\n",
       "    <tr>\n",
       "      <th>1</th>\n",
       "      <td>2017-01-14</td>\n",
       "      <td>Dry</td>\n",
       "      <td>36</td>\n",
       "      <td>1330</td>\n",
       "    </tr>\n",
       "    <tr>\n",
       "      <th>2</th>\n",
       "      <td>2017-01-01</td>\n",
       "      <td>Wet/Damp</td>\n",
       "      <td>32</td>\n",
       "      <td>0805</td>\n",
       "    </tr>\n",
       "    <tr>\n",
       "      <th>3</th>\n",
       "      <td>2017-01-01</td>\n",
       "      <td>Wet/Damp</td>\n",
       "      <td>30</td>\n",
       "      <td>0805</td>\n",
       "    </tr>\n",
       "    <tr>\n",
       "      <th>4</th>\n",
       "      <td>2017-01-01</td>\n",
       "      <td>Wet/Damp</td>\n",
       "      <td>26</td>\n",
       "      <td>1705</td>\n",
       "    </tr>\n",
       "  </tbody>\n",
       "</table>\n",
       "</div>"
      ],
      "text/plain": [
       "  AccidentDate RoadSurface  AgeCasualty  Time\n",
       "0   2017-03-17         Dry           61  0815\n",
       "1   2017-01-14         Dry           36  1330\n",
       "2   2017-01-01    Wet/Damp           32  0805\n",
       "3   2017-01-01    Wet/Damp           30  0805\n",
       "4   2017-01-01    Wet/Damp           26  1705"
      ]
     },
     "execution_count": 67,
     "metadata": {},
     "output_type": "execute_result"
    }
   ],
   "source": [
    "gradparty.head()"
   ]
  },
  {
   "cell_type": "code",
   "execution_count": 68,
   "metadata": {},
   "outputs": [],
   "source": [
    "party_group=df.groupby(['AccidentDate','RoadSurface', 'AgeCasualty','Time']).size()"
   ]
  },
  {
   "cell_type": "code",
   "execution_count": 69,
   "metadata": {},
   "outputs": [
    {
     "data": {
      "text/plain": [
       "AccidentDate  RoadSurface  AgeCasualty  Time\n",
       "2017-01-01    Dry          34           1200    1\n",
       "              Wet/Damp     26           1705    1\n",
       "                           30           0805    1\n",
       "                           32           0805    1\n",
       "2017-01-02    Dry          17           1807    1\n",
       "                                               ..\n",
       "2017-12-31    Dry          21           1345    1\n",
       "              Snow         19           1515    1\n",
       "                           21           1515    1\n",
       "              Wet/Damp     20           2111    1\n",
       "                           23           1935    1\n",
       "Length: 2167, dtype: int64"
      ]
     },
     "execution_count": 69,
     "metadata": {},
     "output_type": "execute_result"
    }
   ],
   "source": [
    "party_group"
   ]
  },
  {
   "cell_type": "code",
   "execution_count": 70,
   "metadata": {},
   "outputs": [],
   "source": [
    "party_start_date = \"2017-06-14\"\n",
    "party_end_date = \"2017-06-14\""
   ]
  },
  {
   "cell_type": "code",
   "execution_count": 71,
   "metadata": {},
   "outputs": [],
   "source": [
    "mask_party_date = (gradparty['AccidentDate'] >= party_start_date ) & (gradparty['AccidentDate'] <= party_end_date)"
   ]
  },
  {
   "cell_type": "code",
   "execution_count": 72,
   "metadata": {},
   "outputs": [
    {
     "data": {
      "text/html": [
       "<div>\n",
       "<style scoped>\n",
       "    .dataframe tbody tr th:only-of-type {\n",
       "        vertical-align: middle;\n",
       "    }\n",
       "\n",
       "    .dataframe tbody tr th {\n",
       "        vertical-align: top;\n",
       "    }\n",
       "\n",
       "    .dataframe thead th {\n",
       "        text-align: right;\n",
       "    }\n",
       "</style>\n",
       "<table border=\"1\" class=\"dataframe\">\n",
       "  <thead>\n",
       "    <tr style=\"text-align: right;\">\n",
       "      <th></th>\n",
       "      <th>AccidentDate</th>\n",
       "      <th>RoadSurface</th>\n",
       "      <th>AgeCasualty</th>\n",
       "      <th>Time</th>\n",
       "    </tr>\n",
       "  </thead>\n",
       "  <tbody>\n",
       "    <tr>\n",
       "      <th>924</th>\n",
       "      <td>2017-06-14</td>\n",
       "      <td>Dry</td>\n",
       "      <td>20</td>\n",
       "      <td>0639</td>\n",
       "    </tr>\n",
       "    <tr>\n",
       "      <th>925</th>\n",
       "      <td>2017-06-14</td>\n",
       "      <td>Dry</td>\n",
       "      <td>17</td>\n",
       "      <td>0850</td>\n",
       "    </tr>\n",
       "    <tr>\n",
       "      <th>926</th>\n",
       "      <td>2017-06-14</td>\n",
       "      <td>Dry</td>\n",
       "      <td>35</td>\n",
       "      <td>2141</td>\n",
       "    </tr>\n",
       "  </tbody>\n",
       "</table>\n",
       "</div>"
      ],
      "text/plain": [
       "    AccidentDate RoadSurface  AgeCasualty  Time\n",
       "924   2017-06-14         Dry           20  0639\n",
       "925   2017-06-14         Dry           17  0850\n",
       "926   2017-06-14         Dry           35  2141"
      ]
     },
     "execution_count": 72,
     "metadata": {},
     "output_type": "execute_result"
    }
   ],
   "source": [
    "df_gradparty_date = gradparty.loc[mask_party_date]\n",
    "df_gradparty_date"
   ]
  },
  {
   "cell_type": "code",
   "execution_count": 73,
   "metadata": {},
   "outputs": [],
   "source": [
    "party_age_start = 23\n",
    "party_age_finish = 24"
   ]
  },
  {
   "cell_type": "code",
   "execution_count": 74,
   "metadata": {},
   "outputs": [],
   "source": [
    "mask_party_age = (df_gradparty_date['AgeCasualty'] >= party_age_start ) & (df_gradparty_date['AgeCasualty'] <= party_age_finish)"
   ]
  },
  {
   "cell_type": "code",
   "execution_count": 75,
   "metadata": {},
   "outputs": [],
   "source": [
    "df_gradparty_age = df_gradparty_date.loc[mask_party_age]"
   ]
  },
  {
   "cell_type": "code",
   "execution_count": 76,
   "metadata": {},
   "outputs": [
    {
     "data": {
      "text/html": [
       "<div>\n",
       "<style scoped>\n",
       "    .dataframe tbody tr th:only-of-type {\n",
       "        vertical-align: middle;\n",
       "    }\n",
       "\n",
       "    .dataframe tbody tr th {\n",
       "        vertical-align: top;\n",
       "    }\n",
       "\n",
       "    .dataframe thead th {\n",
       "        text-align: right;\n",
       "    }\n",
       "</style>\n",
       "<table border=\"1\" class=\"dataframe\">\n",
       "  <thead>\n",
       "    <tr style=\"text-align: right;\">\n",
       "      <th></th>\n",
       "      <th>AccidentDate</th>\n",
       "      <th>RoadSurface</th>\n",
       "      <th>AgeCasualty</th>\n",
       "      <th>Time</th>\n",
       "    </tr>\n",
       "  </thead>\n",
       "  <tbody>\n",
       "  </tbody>\n",
       "</table>\n",
       "</div>"
      ],
      "text/plain": [
       "Empty DataFrame\n",
       "Columns: [AccidentDate, RoadSurface, AgeCasualty, Time]\n",
       "Index: []"
      ]
     },
     "execution_count": 76,
     "metadata": {},
     "output_type": "execute_result"
    }
   ],
   "source": [
    "df_gradparty_age"
   ]
  },
  {
   "cell_type": "code",
   "execution_count": 77,
   "metadata": {},
   "outputs": [],
   "source": [
    "##There is no accident that day."
   ]
  },
  {
   "cell_type": "markdown",
   "metadata": {},
   "source": [
    "## Question 9: What is the total number of accidents by daytime ?"
   ]
  },
  {
   "cell_type": "code",
   "execution_count": 78,
   "metadata": {},
   "outputs": [],
   "source": [
    "df['AccidentDate'] = pd.to_datetime(df['AccidentDate'])"
   ]
  },
  {
   "cell_type": "code",
   "execution_count": 79,
   "metadata": {},
   "outputs": [],
   "source": [
    "df['AccidentDate']= pd.to_datetime(df['AccidentDate'], format=\"%d/%m/%Y\")"
   ]
  },
  {
   "cell_type": "code",
   "execution_count": 80,
   "metadata": {},
   "outputs": [],
   "source": [
    "daytime_groups = {1: 'Morning (5-10)', \n",
    "                  2: 'Office Hours (10-15)', \n",
    "                  3: 'Afternoon Rush (15-19)', \n",
    "                  4: 'Evening (19-23)', \n",
    "                  5: 'Night(23-5)'}"
   ]
  },
  {
   "cell_type": "code",
   "execution_count": 81,
   "metadata": {},
   "outputs": [],
   "source": [
    "# slice first and second string from time column\n",
    "df['Hour'] = df['Time'].str[0:2]\n",
    "\n",
    "# convert new column to numeric datetype\n",
    "df['Hour'] = pd.to_numeric(df['Hour'])\n",
    "\n",
    "# drop null values in our new column\n",
    "df = df.dropna(subset=['Hour'])\n",
    "\n",
    "# cast to integer values\n",
    "df['Hour'] = df['Hour'].astype('int')"
   ]
  },
  {
   "cell_type": "code",
   "execution_count": 82,
   "metadata": {},
   "outputs": [
    {
     "data": {
      "text/html": [
       "<div>\n",
       "<style scoped>\n",
       "    .dataframe tbody tr th:only-of-type {\n",
       "        vertical-align: middle;\n",
       "    }\n",
       "\n",
       "    .dataframe tbody tr th {\n",
       "        vertical-align: top;\n",
       "    }\n",
       "\n",
       "    .dataframe thead th {\n",
       "        text-align: right;\n",
       "    }\n",
       "</style>\n",
       "<table border=\"1\" class=\"dataframe\">\n",
       "  <thead>\n",
       "    <tr style=\"text-align: right;\">\n",
       "      <th></th>\n",
       "      <th>Time</th>\n",
       "      <th>Hour</th>\n",
       "      <th>Daytime</th>\n",
       "    </tr>\n",
       "  </thead>\n",
       "  <tbody>\n",
       "    <tr>\n",
       "      <th>2198</th>\n",
       "      <td>1515</td>\n",
       "      <td>15</td>\n",
       "      <td>3</td>\n",
       "    </tr>\n",
       "    <tr>\n",
       "      <th>2199</th>\n",
       "      <td>1935</td>\n",
       "      <td>19</td>\n",
       "      <td>4</td>\n",
       "    </tr>\n",
       "    <tr>\n",
       "      <th>2200</th>\n",
       "      <td>2111</td>\n",
       "      <td>21</td>\n",
       "      <td>4</td>\n",
       "    </tr>\n",
       "    <tr>\n",
       "      <th>2201</th>\n",
       "      <td>2320</td>\n",
       "      <td>23</td>\n",
       "      <td>5</td>\n",
       "    </tr>\n",
       "    <tr>\n",
       "      <th>2202</th>\n",
       "      <td>1400</td>\n",
       "      <td>14</td>\n",
       "      <td>2</td>\n",
       "    </tr>\n",
       "  </tbody>\n",
       "</table>\n",
       "</div>"
      ],
      "text/plain": [
       "      Time  Hour Daytime\n",
       "2198  1515    15       3\n",
       "2199  1935    19       4\n",
       "2200  2111    21       4\n",
       "2201  2320    23       5\n",
       "2202  1400    14       2"
      ]
     },
     "execution_count": 82,
     "metadata": {},
     "output_type": "execute_result"
    }
   ],
   "source": [
    "# define a function that turns the hours into daytime groups\n",
    "def when_was_it(hour):\n",
    "    if hour >= 5 and hour < 10:\n",
    "        return \"1\"\n",
    "    elif hour >= 10 and hour < 15:\n",
    "        return \"2\"\n",
    "    elif hour >= 15 and hour < 19:\n",
    "        return \"3\"\n",
    "    elif hour >= 19 and hour < 23:\n",
    "        return \"4\"\n",
    "    else:\n",
    "        return \"5\"\n",
    "    \n",
    "# apply this function to our temporary hour column\n",
    "df['Daytime'] = df['Hour'].apply(when_was_it)\n",
    "df[['Time', 'Hour', 'Daytime']].tail()"
   ]
  },
  {
   "cell_type": "code",
   "execution_count": 83,
   "metadata": {},
   "outputs": [],
   "source": [
    "# drop old time column and temporary hour column\n",
    "df = df.drop(columns=['Time', 'Hour'])"
   ]
  },
  {
   "cell_type": "code",
   "execution_count": 84,
   "metadata": {},
   "outputs": [
    {
     "data": {
      "image/png": "[encoded data removed]",
      "text/plain": [
       "<Figure size 864x360 with 1 Axes>"
      ]
     },
     "metadata": {
      "needs_background": "light"
     },
     "output_type": "display_data"
    }
   ],
   "source": [
    "# define labels by accessing look up dictionary above\n",
    "labels = tuple(daytime_groups.values())\n",
    "\n",
    "# plot total no. of accidents by daytime\n",
    "df.groupby('Daytime').size().plot(kind='bar', color='lightsteelblue', figsize=(12,5), grid=True)\n",
    "plt.xticks(np.arange(5), labels, rotation='horizontal')\n",
    "plt.xlabel(''), plt.ylabel('Count\\n')\n",
    "plt.title('\\nTotal Number of Accidents by Daytime\\n', fontweight='bold')\n",
    "sns.despine(top=True, right=True, left=True, bottom=True);"
   ]
  },
  {
   "cell_type": "code",
   "execution_count": 85,
   "metadata": {},
   "outputs": [
    {
     "name": "stdout",
     "output_type": "stream",
     "text": [
      "Driver or rider                 1296\n",
      "Vehicle or pillion passenger     586\n",
      "Pedestrian                       321\n",
      "Name: CasualtyClass, dtype: int64\n"
     ]
    }
   ],
   "source": [
    "print(df['CasualtyClass'].value_counts())"
   ]
  },
  {
   "cell_type": "markdown",
   "metadata": {},
   "source": [
    "## Question 10: Using machine learning algorithm decision trees and random forest according to accident casual severity."
   ]
  },
  {
   "cell_type": "code",
   "execution_count": 86,
   "metadata": {},
   "outputs": [
    {
     "data": {
      "image/png": "[encoded data removed]",
      "text/plain": [
       "<Figure size 432x288 with 1 Axes>"
      ]
     },
     "metadata": {
      "needs_background": "light"
     },
     "output_type": "display_data"
    }
   ],
   "source": [
    "#characterstick graph\n",
    "#severity vs count\n",
    "sns.countplot(y = \"CasualtySeverity\" , data = df )\n",
    "plt.tight_layout()"
   ]
  },
  {
   "cell_type": "code",
   "execution_count": 87,
   "metadata": {},
   "outputs": [
    {
     "data": {
      "text/html": [
       "<div>\n",
       "<style scoped>\n",
       "    .dataframe tbody tr th:only-of-type {\n",
       "        vertical-align: middle;\n",
       "    }\n",
       "\n",
       "    .dataframe tbody tr th {\n",
       "        vertical-align: top;\n",
       "    }\n",
       "\n",
       "    .dataframe thead th {\n",
       "        text-align: right;\n",
       "    }\n",
       "</style>\n",
       "<table border=\"1\" class=\"dataframe\">\n",
       "  <thead>\n",
       "    <tr style=\"text-align: right;\">\n",
       "      <th></th>\n",
       "      <th>count</th>\n",
       "    </tr>\n",
       "  </thead>\n",
       "  <tbody>\n",
       "    <tr>\n",
       "      <th>Slight</th>\n",
       "      <td>1879</td>\n",
       "    </tr>\n",
       "    <tr>\n",
       "      <th>Serious</th>\n",
       "      <td>309</td>\n",
       "    </tr>\n",
       "    <tr>\n",
       "      <th>Fatal</th>\n",
       "      <td>15</td>\n",
       "    </tr>\n",
       "  </tbody>\n",
       "</table>\n",
       "</div>"
      ],
      "text/plain": [
       "         count\n",
       "Slight    1879\n",
       "Serious    309\n",
       "Fatal       15"
      ]
     },
     "execution_count": 87,
     "metadata": {},
     "output_type": "execute_result"
    }
   ],
   "source": [
    "#here we check for outlier and boundries\n",
    "\n",
    "pd.DataFrame( {\"count\": df[\"CasualtySeverity\"].value_counts().values } , index = df[\"CasualtySeverity\"].value_counts().index )\n"
   ]
  },
  {
   "cell_type": "markdown",
   "metadata": {},
   "source": [
    "### Prepare to data for algorithm.\n",
    "I get what i need to columns and set it according to algorithm."
   ]
  },
  {
   "cell_type": "code",
   "execution_count": 88,
   "metadata": {},
   "outputs": [],
   "source": [
    "df.CasualtySeverity = df.CasualtySeverity.replace({'Slight': 0, 'Serious': 1, 'Fatal': 1})"
   ]
  },
  {
   "cell_type": "code",
   "execution_count": 89,
   "metadata": {},
   "outputs": [],
   "source": [
    "df['Month'] = df[\"AccidentDate\"].astype(np.datetime64).dt.month"
   ]
  },
  {
   "cell_type": "code",
   "execution_count": 90,
   "metadata": {},
   "outputs": [],
   "source": [
    "df.drop(columns = ['RefNum', 'AccidentDate'], axis=1, inplace=True)"
   ]
  },
  {
   "cell_type": "code",
   "execution_count": 91,
   "metadata": {},
   "outputs": [],
   "source": [
    "df.dropna(inplace = True)"
   ]
  },
  {
   "cell_type": "code",
   "execution_count": 92,
   "metadata": {},
   "outputs": [
    {
     "data": {
      "text/html": [
       "<div>\n",
       "<style scoped>\n",
       "    .dataframe tbody tr th:only-of-type {\n",
       "        vertical-align: middle;\n",
       "    }\n",
       "\n",
       "    .dataframe tbody tr th {\n",
       "        vertical-align: top;\n",
       "    }\n",
       "\n",
       "    .dataframe thead th {\n",
       "        text-align: right;\n",
       "    }\n",
       "</style>\n",
       "<table border=\"1\" class=\"dataframe\">\n",
       "  <thead>\n",
       "    <tr style=\"text-align: right;\">\n",
       "      <th></th>\n",
       "      <th>GridRefEast</th>\n",
       "      <th>GridRefNorth</th>\n",
       "      <th>NumberOfVehicle</th>\n",
       "      <th>1stRoadClass</th>\n",
       "      <th>RoadSurface</th>\n",
       "      <th>LightCondition</th>\n",
       "      <th>WeatherCondition</th>\n",
       "      <th>TypeVehicle</th>\n",
       "      <th>CasualtyClass</th>\n",
       "      <th>CasualtySeverity</th>\n",
       "      <th>SexCasualty</th>\n",
       "      <th>AgeCasualty</th>\n",
       "      <th>Daytime</th>\n",
       "      <th>Month</th>\n",
       "    </tr>\n",
       "  </thead>\n",
       "  <tbody>\n",
       "    <tr>\n",
       "      <th>0</th>\n",
       "      <td>426340</td>\n",
       "      <td>428455</td>\n",
       "      <td>1</td>\n",
       "      <td>A643</td>\n",
       "      <td>Dry</td>\n",
       "      <td>Daylight: Street lights present</td>\n",
       "      <td>Other</td>\n",
       "      <td>Car</td>\n",
       "      <td>Pedestrian</td>\n",
       "      <td>1</td>\n",
       "      <td>Female</td>\n",
       "      <td>61</td>\n",
       "      <td>1</td>\n",
       "      <td>3</td>\n",
       "    </tr>\n",
       "  </tbody>\n",
       "</table>\n",
       "</div>"
      ],
      "text/plain": [
       "   GridRefEast  GridRefNorth  NumberOfVehicle 1stRoadClass RoadSurface  \\\n",
       "0       426340        428455                1         A643         Dry   \n",
       "\n",
       "                    LightCondition WeatherCondition TypeVehicle CasualtyClass  \\\n",
       "0  Daylight: Street lights present            Other         Car    Pedestrian   \n",
       "\n",
       "   CasualtySeverity SexCasualty  AgeCasualty Daytime  Month  \n",
       "0                 1      Female           61       1      3  "
      ]
     },
     "execution_count": 92,
     "metadata": {},
     "output_type": "execute_result"
    }
   ],
   "source": [
    "df.head(1)"
   ]
  },
  {
   "cell_type": "markdown",
   "metadata": {},
   "source": [
    "# Train Test Split\n"
   ]
  },
  {
   "cell_type": "markdown",
   "metadata": {},
   "source": [
    "That means we need to transform them using dummy variables so sklearn will be able to understand these.This in one clean step using pd.get_dummies. The way of dealing with these columns that can be expanded to multiple categorical features if necessary."
   ]
  },
  {
   "cell_type": "code",
   "execution_count": 93,
   "metadata": {},
   "outputs": [],
   "source": [
    "df2 = pd.get_dummies(df, columns=['GridRefEast','GridRefNorth','NumberOfVehicle','1stRoadClass', 'RoadSurface','LightCondition','WeatherCondition','TypeVehicle', 'CasualtyClass', 'SexCasualty', 'AgeCasualty', 'Daytime', 'Month'])"
   ]
  },
  {
   "cell_type": "code",
   "execution_count": 94,
   "metadata": {},
   "outputs": [
    {
     "data": {
      "text/plain": [
       "0    0.852928\n",
       "1    0.147072\n",
       "Name: CasualtySeverity, dtype: float64"
      ]
     },
     "execution_count": 94,
     "metadata": {},
     "output_type": "execute_result"
    }
   ],
   "source": [
    "df2.CasualtySeverity.value_counts() / len(df2)"
   ]
  },
  {
   "cell_type": "code",
   "execution_count": 95,
   "metadata": {},
   "outputs": [],
   "source": [
    "from sklearn.model_selection import train_test_split"
   ]
  },
  {
   "cell_type": "code",
   "execution_count": 96,
   "metadata": {},
   "outputs": [],
   "source": [
    "X = df2.drop('CasualtySeverity',axis=1)\n",
    "\n",
    "Y = df2.CasualtySeverity\n",
    "\n",
    "X_train, X_test, Y_train, Y_test = train_test_split(X, Y, test_size=0.30)"
   ]
  },
  {
   "cell_type": "markdown",
   "metadata": {},
   "source": [
    "# Decision Trees\n",
    "\n",
    "Import DecisionTreeClassifier"
   ]
  },
  {
   "cell_type": "code",
   "execution_count": 97,
   "metadata": {},
   "outputs": [],
   "source": [
    "from sklearn.tree import DecisionTreeClassifier"
   ]
  },
  {
   "cell_type": "markdown",
   "metadata": {},
   "source": [
    "Create an instance of DecisionTreeClassifier() called dtree and fit it to the training data."
   ]
  },
  {
   "cell_type": "code",
   "execution_count": 98,
   "metadata": {},
   "outputs": [],
   "source": [
    "dtree = DecisionTreeClassifier()"
   ]
  },
  {
   "cell_type": "code",
   "execution_count": 99,
   "metadata": {},
   "outputs": [
    {
     "data": {
      "text/plain": [
       "DecisionTreeClassifier(ccp_alpha=0.0, class_weight=None, criterion='gini',\n",
       "                       max_depth=None, max_features=None, max_leaf_nodes=None,\n",
       "                       min_impurity_decrease=0.0, min_impurity_split=None,\n",
       "                       min_samples_leaf=1, min_samples_split=2,\n",
       "                       min_weight_fraction_leaf=0.0, presort='deprecated',\n",
       "                       random_state=None, splitter='best')"
      ]
     },
     "execution_count": 99,
     "metadata": {},
     "output_type": "execute_result"
    }
   ],
   "source": [
    "dtree.fit(X_train,Y_train)"
   ]
  },
  {
   "cell_type": "markdown",
   "metadata": {},
   "source": [
    "# Prediction and Evaluation\n",
    "\n",
    "Create predictions from the test set and create a classification report and a confusion matrix."
   ]
  },
  {
   "cell_type": "code",
   "execution_count": 100,
   "metadata": {},
   "outputs": [],
   "source": [
    "predictions = dtree.predict(X_test)"
   ]
  },
  {
   "cell_type": "code",
   "execution_count": 101,
   "metadata": {},
   "outputs": [],
   "source": [
    "from sklearn.metrics import classification_report,confusion_matrix"
   ]
  },
  {
   "cell_type": "code",
   "execution_count": 102,
   "metadata": {},
   "outputs": [
    {
     "name": "stdout",
     "output_type": "stream",
     "text": [
      "              precision    recall  f1-score   support\n",
      "\n",
      "           0       0.86      0.94      0.90       559\n",
      "           1       0.34      0.16      0.21       102\n",
      "\n",
      "    accuracy                           0.82       661\n",
      "   macro avg       0.60      0.55      0.56       661\n",
      "weighted avg       0.78      0.82      0.79       661\n",
      "\n"
     ]
    }
   ],
   "source": [
    "print(classification_report(Y_test,predictions))"
   ]
  },
  {
   "cell_type": "code",
   "execution_count": 103,
   "metadata": {},
   "outputs": [
    {
     "name": "stdout",
     "output_type": "stream",
     "text": [
      "[[528  31]\n",
      " [ 86  16]]\n"
     ]
    }
   ],
   "source": [
    "print(confusion_matrix(Y_test,predictions))"
   ]
  },
  {
   "cell_type": "markdown",
   "metadata": {},
   "source": [
    "# Tree Visualization\n",
    "Scikit learn actually has some built-in visualization capabilities for decision trees, you won't use this often and it requires you to install the pydot library, but here is an example of what it looks like and the code to execute this:"
   ]
  },
  {
   "cell_type": "code",
   "execution_count": 104,
   "metadata": {},
   "outputs": [],
   "source": [
    "import sklearn as sk\n",
    "import sklearn.tree as tree\n",
    "from IPython.display import Image  \n",
    "import pydotplus\n",
    "import os     \n",
    "os.environ[\"PATH\"] += os.pathsep + 'C:/Program Files (x86)/Graphviz2.38/bin/'"
   ]
  },
  {
   "cell_type": "code",
   "execution_count": 105,
   "metadata": {},
   "outputs": [
    {
     "data": {
      "image/png": "[encoded data removed]",
      "text/plain": [
       "<IPython.core.display.Image object>"
      ]
     },
     "execution_count": 105,
     "metadata": {},
     "output_type": "execute_result"
    }
   ],
   "source": [
    "dt = tree.DecisionTreeClassifier(max_depth=3)\n",
    "dt.fit(X,Y)\n",
    "\n",
    "dt_feature_names = list(X.columns)\n",
    "dt_target_names = np.array(Y.unique(),dtype=np.str) \n",
    "tree.export_graphviz(dt, out_file='tree.dot', proportion = True, \n",
    "    feature_names=dt_feature_names, class_names=dt_target_names,\n",
    "    filled=True)  \n",
    "graph = pydotplus.graph_from_dot_file('tree.dot')\n",
    "Image(graph.create_png())"
   ]
  },
  {
   "cell_type": "markdown",
   "metadata": {},
   "source": [
    "\n",
    "##### The tree above demonstrates the following findings:\n",
    "\n",
    "Motorcycles over 500cc\n",
    "Among all types of vehicles, motorcycles over 500cc are much more prone to severe accidents. Within the accidents happening to them, 42.4% are severe.\n",
    "The accidents happening to motorcycles over 500cc in rural areas is more dangerous: over 50% are severe accidents. The most dangerous situation is on roads with speed limits over 55 mph in rural areas: the severe accident rate is 58.2%."
   ]
  },
  {
   "cell_type": "markdown",
   "metadata": {},
   "source": [
    "# Random Forests\n",
    "###### Now let's compare the decision tree model to a random forest.\n",
    "Create an instance of the RandomForestClassifier class and fit it to our training data from the previous step."
   ]
  },
  {
   "cell_type": "code",
   "execution_count": 106,
   "metadata": {},
   "outputs": [
    {
     "data": {
      "text/plain": [
       "RandomForestClassifier(bootstrap=True, ccp_alpha=0.0, class_weight=None,\n",
       "                       criterion='gini', max_depth=None, max_features='auto',\n",
       "                       max_leaf_nodes=None, max_samples=None,\n",
       "                       min_impurity_decrease=0.0, min_impurity_split=None,\n",
       "                       min_samples_leaf=1, min_samples_split=2,\n",
       "                       min_weight_fraction_leaf=0.0, n_estimators=600,\n",
       "                       n_jobs=None, oob_score=False, random_state=None,\n",
       "                       verbose=0, warm_start=False)"
      ]
     },
     "execution_count": 106,
     "metadata": {},
     "output_type": "execute_result"
    }
   ],
   "source": [
    "from sklearn.ensemble import RandomForestClassifier\n",
    "rfc = RandomForestClassifier(n_estimators=600)\n",
    "rfc.fit(X_train, Y_train)"
   ]
  },
  {
   "cell_type": "code",
   "execution_count": 107,
   "metadata": {},
   "outputs": [],
   "source": [
    "rfc_pred = rfc.predict(X_test)"
   ]
  },
  {
   "cell_type": "markdown",
   "metadata": {},
   "source": [
    "### Show the Confusion Matrix for the predictions.\n",
    "Create a classification report from the results."
   ]
  },
  {
   "cell_type": "code",
   "execution_count": 108,
   "metadata": {},
   "outputs": [
    {
     "name": "stdout",
     "output_type": "stream",
     "text": [
      "[[556   3]\n",
      " [ 96   6]]\n"
     ]
    }
   ],
   "source": [
    "print(confusion_matrix(Y_test,rfc_pred))"
   ]
  },
  {
   "cell_type": "code",
   "execution_count": 109,
   "metadata": {},
   "outputs": [
    {
     "name": "stdout",
     "output_type": "stream",
     "text": [
      "              precision    recall  f1-score   support\n",
      "\n",
      "           0       0.85      0.99      0.92       559\n",
      "           1       0.67      0.06      0.11       102\n",
      "\n",
      "    accuracy                           0.85       661\n",
      "   macro avg       0.76      0.53      0.51       661\n",
      "weighted avg       0.82      0.85      0.79       661\n",
      "\n"
     ]
    }
   ],
   "source": [
    "print(classification_report(Y_test,rfc_pred))"
   ]
  },
  {
   "cell_type": "code",
   "execution_count": null,
   "metadata": {},
   "outputs": [],
   "source": []
  }
 ],
 "metadata": {
  "kernelspec": {
   "display_name": "Python 3",
   "language": "python",
   "name": "python3"
  },
  "language_info": {
   "codemirror_mode": {
    "name": "ipython",
    "version": 3
   },
   "file_extension": ".py",
   "mimetype": "text/x-python",
   "name": "python",
   "nbconvert_exporter": "python",
   "pygments_lexer": "ipython3",
   "version": "3.7.6"
  }
 },
 "nbformat": 4,
 "nbformat_minor": 2
}
